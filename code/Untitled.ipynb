{
 "cells": [
  {
   "cell_type": "code",
   "execution_count": 1,
   "metadata": {},
   "outputs": [
    {
     "name": "stdout",
     "output_type": "stream",
     "text": [
      "WARNING:tensorflow:From D:\\python\\lib\\site-packages\\tensorflow_core\\python\\compat\\v2_compat.py:65: disable_resource_variables (from tensorflow.python.ops.variable_scope) is deprecated and will be removed in a future version.\n",
      "Instructions for updating:\n",
      "non-resource variables are not supported in the long term\n"
     ]
    }
   ],
   "source": [
    "import pandas as pd\n",
    "import numpy as np\n",
    "from pathlib import Path\n",
    "from MSDP import MSDP\n",
    "from SSDP import SSDP\n",
    "from BPNN import BPNN\n",
    "import target_functions as tgf\n",
    "import matplotlib.pyplot as plt\n",
    "import csv\n",
    "from sklearn.metrics import mean_squared_error\n",
    "from sklearn.model_selection import train_test_split\n",
    "import dictionaries\n",
    "import ma\n"
   ]
  },
  {
   "cell_type": "code",
   "execution_count": 2,
   "metadata": {},
   "outputs": [],
   "source": [
    "fileLists = dictionaries.get_filelists()"
   ]
  },
  {
   "cell_type": "code",
   "execution_count": 4,
   "metadata": {},
   "outputs": [],
   "source": [
    "import helpers"
   ]
  },
  {
   "cell_type": "code",
   "execution_count": 7,
   "metadata": {},
   "outputs": [],
   "source": [
    "path = 'data/'"
   ]
  },
  {
   "cell_type": "code",
   "execution_count": 8,
   "metadata": {},
   "outputs": [],
   "source": [
    "X, y = helpers.getfeatures(path, fileLists[0][1])"
   ]
  },
  {
   "cell_type": "code",
   "execution_count": 9,
   "metadata": {},
   "outputs": [
    {
     "data": {
      "text/plain": [
       "(array([[11.        ,  4.        ,  2.        , ..., 34.54545455,\n",
       "          3.        ,  1.2727    ],\n",
       "        [14.        ,  1.        ,  1.        , ..., 16.85714286,\n",
       "          6.        ,  1.6429    ],\n",
       "        [ 3.        ,  2.        ,  0.        , ..., 17.33333333,\n",
       "          1.        ,  0.6667    ],\n",
       "        ...,\n",
       "        [14.        ,  1.        ,  0.        , ..., 56.57142857,\n",
       "         24.        ,  2.7857    ],\n",
       "        [ 4.        ,  2.        ,  0.        , ..., 13.5       ,\n",
       "          5.        ,  1.75      ],\n",
       "        [27.        ,  1.        ,  0.        , ..., 18.22222222,\n",
       "         11.        ,  1.4444    ]]),\n",
       " array([0., 2., 0., 0., 0., 0., 0., 0., 0., 1., 0., 1., 0., 2., 0., 0., 1.,\n",
       "        0., 0., 0., 0., 0., 3., 0., 0., 0., 0., 0., 0., 0., 0., 0., 0., 0.,\n",
       "        1., 0., 1., 3., 0., 0., 0., 2., 0., 0., 0., 0., 0., 0., 0., 0., 0.,\n",
       "        0., 0., 3., 0., 0., 0., 0., 0., 0., 0., 0., 0., 0., 0., 2., 0., 0.,\n",
       "        0., 0., 0., 0., 0., 0., 3., 1., 0., 0., 1., 0., 0., 0., 0., 0., 0.,\n",
       "        0., 0., 0., 0., 0., 1., 0., 0., 0., 0., 0., 0., 0., 0., 0., 1., 0.,\n",
       "        1., 0., 0., 0., 0., 0., 0., 0., 0., 0., 0., 0., 1., 0., 0., 0., 0.,\n",
       "        0., 0., 0., 2., 0., 0.]))"
      ]
     },
     "execution_count": 9,
     "metadata": {},
     "output_type": "execute_result"
    }
   ],
   "source": [
    "X,y"
   ]
  },
  {
   "cell_type": "code",
   "execution_count": 11,
   "metadata": {},
   "outputs": [],
   "source": [
    "model = SSDP(X=X, y=y, model=1, drawing=0, l=-20, u=20, soea=1)"
   ]
  },
  {
   "cell_type": "code",
   "execution_count": 13,
   "metadata": {},
   "outputs": [],
   "source": [
    "model.run()"
   ]
  },
  {
   "cell_type": "code",
   "execution_count": 14,
   "metadata": {},
   "outputs": [],
   "source": [
    "best_gen = np.argmin(model.problem.maxormins * model.obj_trace[:, 1])"
   ]
  },
  {
   "cell_type": "code",
   "execution_count": 15,
   "metadata": {},
   "outputs": [
    {
     "data": {
      "text/plain": [
       "94"
      ]
     },
     "execution_count": 15,
     "metadata": {},
     "output_type": "execute_result"
    }
   ],
   "source": [
    "best_gen"
   ]
  },
  {
   "cell_type": "code",
   "execution_count": 16,
   "metadata": {},
   "outputs": [],
   "source": [
    "best_objV = model.obj_trace[best_gen, 1]"
   ]
  },
  {
   "cell_type": "code",
   "execution_count": 17,
   "metadata": {},
   "outputs": [
    {
     "data": {
      "text/plain": [
       "0.8186666666666667"
      ]
     },
     "execution_count": 17,
     "metadata": {},
     "output_type": "execute_result"
    }
   ],
   "source": [
    "best_objV"
   ]
  },
  {
   "cell_type": "code",
   "execution_count": 18,
   "metadata": {},
   "outputs": [
    {
     "data": {
      "text/plain": [
       "<Population.Population at 0x192fabeb7b8>"
      ]
     },
     "execution_count": 18,
     "metadata": {},
     "output_type": "execute_result"
    }
   ],
   "source": [
    "model.population"
   ]
  },
  {
   "cell_type": "code",
   "execution_count": 26,
   "metadata": {},
   "outputs": [
    {
     "data": {
      "text/plain": [
       "(100, 1)"
      ]
     },
     "execution_count": 26,
     "metadata": {},
     "output_type": "execute_result"
    }
   ],
   "source": [
    "model.population.ObjV.shape"
   ]
  },
  {
   "cell_type": "code",
   "execution_count": 31,
   "metadata": {},
   "outputs": [
    {
     "data": {
      "text/plain": [
       "100"
      ]
     },
     "execution_count": 31,
     "metadata": {},
     "output_type": "execute_result"
    }
   ],
   "source": [
    "model.population.ObjV.shape[0]"
   ]
  },
  {
   "cell_type": "code",
   "execution_count": null,
   "metadata": {},
   "outputs": [],
   "source": []
  },
  {
   "cell_type": "code",
   "execution_count": 27,
   "metadata": {},
   "outputs": [
    {
     "data": {
      "text/plain": [
       "0.8109090909090909"
      ]
     },
     "execution_count": 27,
     "metadata": {},
     "output_type": "execute_result"
    }
   ],
   "source": [
    "model.population.ObjV[10][0]"
   ]
  },
  {
   "cell_type": "code",
   "execution_count": 28,
   "metadata": {},
   "outputs": [
    {
     "data": {
      "text/plain": [
       "(100, 21)"
      ]
     },
     "execution_count": 28,
     "metadata": {},
     "output_type": "execute_result"
    }
   ],
   "source": [
    "model.population.Chrom.shape"
   ]
  },
  {
   "cell_type": "code",
   "execution_count": 29,
   "metadata": {},
   "outputs": [
    {
     "data": {
      "text/plain": [
       "array([-15.19873566,  -6.42175449, -12.65944674, -13.28424204,\n",
       "        14.79389722,  -1.72246934,  17.27942111,  16.43218511,\n",
       "        -5.50686399,   2.32668427,   1.5738716 ,  19.67952618,\n",
       "       -15.85492868, -19.1482081 ,  13.02924968, -15.00887393,\n",
       "       -12.59222645,  -8.87512303, -19.24961495, -14.38429257,\n",
       "       -14.99594055])"
      ]
     },
     "execution_count": 29,
     "metadata": {},
     "output_type": "execute_result"
    }
   ],
   "source": [
    "model.population.Chrom[10]"
   ]
  },
  {
   "cell_type": "code",
   "execution_count": 23,
   "metadata": {},
   "outputs": [
    {
     "data": {
      "text/plain": [
       "array([[0.81406061],\n",
       "       [0.808     ],\n",
       "       [0.808     ],\n",
       "       [0.81163636],\n",
       "       [0.81236364],\n",
       "       [0.80872727],\n",
       "       [0.81381818],\n",
       "       [0.8089697 ],\n",
       "       [0.81260606],\n",
       "       [0.81842424],\n",
       "       [0.81090909],\n",
       "       [0.81139394],\n",
       "       [0.81042424],\n",
       "       [0.81139394],\n",
       "       [0.80848485],\n",
       "       [0.81818182],\n",
       "       [0.81187879],\n",
       "       [0.81866667],\n",
       "       [0.81139394],\n",
       "       [0.8070303 ],\n",
       "       [0.80727273],\n",
       "       [0.81721212],\n",
       "       [0.81284848],\n",
       "       [0.81260606],\n",
       "       [0.81018182],\n",
       "       [0.80969697],\n",
       "       [0.80727273],\n",
       "       [0.81139394],\n",
       "       [0.80921212],\n",
       "       [0.81333333],\n",
       "       [0.81212121],\n",
       "       [0.81236364],\n",
       "       [0.80945455],\n",
       "       [0.81163636],\n",
       "       [0.81042424],\n",
       "       [0.8089697 ],\n",
       "       [0.81793939],\n",
       "       [0.81357576],\n",
       "       [0.80945455],\n",
       "       [0.80751515],\n",
       "       [0.80678788],\n",
       "       [0.81430303],\n",
       "       [0.81139394],\n",
       "       [0.80921212],\n",
       "       [0.81163636],\n",
       "       [0.80727273],\n",
       "       [0.81793939],\n",
       "       [0.80654545],\n",
       "       [0.80921212],\n",
       "       [0.80945455],\n",
       "       [0.81648485],\n",
       "       [0.8150303 ],\n",
       "       [0.81624242],\n",
       "       [0.81212121],\n",
       "       [0.81357576],\n",
       "       [0.80969697],\n",
       "       [0.81430303],\n",
       "       [0.808     ],\n",
       "       [0.81333333],\n",
       "       [0.8089697 ],\n",
       "       [0.80945455],\n",
       "       [0.81090909],\n",
       "       [0.81430303],\n",
       "       [0.81066667],\n",
       "       [0.81309091],\n",
       "       [0.81842424],\n",
       "       [0.81333333],\n",
       "       [0.81018182],\n",
       "       [0.81309091],\n",
       "       [0.80921212],\n",
       "       [0.80993939],\n",
       "       [0.81478788],\n",
       "       [0.81672727],\n",
       "       [0.81212121],\n",
       "       [0.80848485],\n",
       "       [0.81066667],\n",
       "       [0.81721212],\n",
       "       [0.81284848],\n",
       "       [0.81139394],\n",
       "       [0.808     ],\n",
       "       [0.81284848],\n",
       "       [0.80678788],\n",
       "       [0.81066667],\n",
       "       [0.81115152],\n",
       "       [0.81187879],\n",
       "       [0.80581818],\n",
       "       [0.81212121],\n",
       "       [0.81430303],\n",
       "       [0.80969697],\n",
       "       [0.81042424],\n",
       "       [0.81406061],\n",
       "       [0.80848485],\n",
       "       [0.81139394],\n",
       "       [0.81066667],\n",
       "       [0.80824242],\n",
       "       [0.8070303 ],\n",
       "       [0.80533333],\n",
       "       [0.81236364],\n",
       "       [0.81309091],\n",
       "       [0.81236364]])"
      ]
     },
     "execution_count": 23,
     "metadata": {},
     "output_type": "execute_result"
    }
   ],
   "source": [
    "model.population.ObjV"
   ]
  },
  {
   "cell_type": "code",
   "execution_count": 25,
   "metadata": {},
   "outputs": [
    {
     "data": {
      "text/plain": [
       "array([[ -6.56194125, -16.20799623,  -9.40909889, ..., -11.73209243,\n",
       "        -17.86406293,  -2.73900907],\n",
       "       [  9.60058342, -10.910152  ,  -5.19868634, ..., -13.68668802,\n",
       "        -10.05923092, -18.62913923],\n",
       "       [  9.20894159, -18.09918677,  -7.39698501, ..., -11.45337755,\n",
       "         -7.73898832,   2.51712913],\n",
       "       ...,\n",
       "       [-17.73167271, -17.13493591, -14.49923435, ..., -19.55530922,\n",
       "         -6.01925319,  17.8600805 ],\n",
       "       [  7.70179467, -19.01246969, -11.95197167, ..., -19.48226728,\n",
       "          1.68303758,  11.94528196],\n",
       "       [ 18.15262376,  -7.43889575, -19.49193302, ..., -19.87775019,\n",
       "         -8.68078657, -11.4495952 ]])"
      ]
     },
     "execution_count": 25,
     "metadata": {},
     "output_type": "execute_result"
    }
   ],
   "source": [
    "model.population.Chrom"
   ]
  },
  {
   "cell_type": "code",
   "execution_count": 33,
   "metadata": {},
   "outputs": [],
   "source": [
    "best_Chrom = []"
   ]
  },
  {
   "cell_type": "code",
   "execution_count": null,
   "metadata": {},
   "outputs": [],
   "source": []
  },
  {
   "cell_type": "code",
   "execution_count": 34,
   "metadata": {},
   "outputs": [],
   "source": [
    "for tmp_index in range(model.population.ObjV.shape[0]):\n",
    "    if model.population.ObjV[tmp_index][0] == best_objV:\n",
    "        best_Chrom.append(model.population.Chrom[tmp_index])"
   ]
  },
  {
   "cell_type": "code",
   "execution_count": 35,
   "metadata": {},
   "outputs": [
    {
     "data": {
      "text/plain": [
       "[array([ 18.37080293,  -8.64834909,  -3.88800185, -15.10672304,\n",
       "          9.77128801,  -0.98841351,  18.33058244,  14.1558333 ,\n",
       "        -16.32410552,  -6.65034828,   0.45572764,  19.04975163,\n",
       "        -11.07508632,   5.27820385,  -9.84235826,  -7.61767136,\n",
       "        -17.85662739,   0.04758908, -17.05660088, -15.94662783,\n",
       "         18.33611072])]"
      ]
     },
     "execution_count": 35,
     "metadata": {},
     "output_type": "execute_result"
    }
   ],
   "source": [
    "best_Chrom"
   ]
  },
  {
   "cell_type": "code",
   "execution_count": null,
   "metadata": {},
   "outputs": [],
   "source": []
  },
  {
   "cell_type": "code",
   "execution_count": null,
   "metadata": {},
   "outputs": [],
   "source": []
  },
  {
   "cell_type": "code",
   "execution_count": null,
   "metadata": {},
   "outputs": [],
   "source": []
  },
  {
   "cell_type": "code",
   "execution_count": null,
   "metadata": {},
   "outputs": [],
   "source": []
  },
  {
   "cell_type": "code",
   "execution_count": null,
   "metadata": {},
   "outputs": [],
   "source": []
  },
  {
   "cell_type": "code",
   "execution_count": null,
   "metadata": {},
   "outputs": [],
   "source": []
  }
 ],
 "metadata": {
  "kernelspec": {
   "display_name": "python base",
   "language": "python",
   "name": "base"
  },
  "language_info": {
   "codemirror_mode": {
    "name": "ipython",
    "version": 3
   },
   "file_extension": ".py",
   "mimetype": "text/x-python",
   "name": "python",
   "nbconvert_exporter": "python",
   "pygments_lexer": "ipython3",
   "version": "3.5.1"
  }
 },
 "nbformat": 4,
 "nbformat_minor": 2
}
