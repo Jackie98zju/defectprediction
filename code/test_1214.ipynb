{
 "cells": [
  {
   "cell_type": "code",
   "execution_count": 1,
   "metadata": {},
   "outputs": [],
   "source": [
    "import geatpy as ea"
   ]
  },
  {
   "cell_type": "code",
   "execution_count": 2,
   "metadata": {},
   "outputs": [
    {
     "name": "stdout",
     "output_type": "stream",
     "text": [
      "WARNING:tensorflow:From D:\\python\\lib\\site-packages\\tensorflow_core\\python\\compat\\v2_compat.py:65: disable_resource_variables (from tensorflow.python.ops.variable_scope) is deprecated and will be removed in a future version.\n",
      "Instructions for updating:\n",
      "non-resource variables are not supported in the long term\n"
     ]
    }
   ],
   "source": [
    "import helpers"
   ]
  },
  {
   "cell_type": "code",
   "execution_count": 3,
   "metadata": {},
   "outputs": [],
   "source": [
    "from MSDP import MSDP\n",
    "import helpers\n",
    "fileLists = helpers.get_filelists()\n",
    "path = 'data/'\n"
   ]
  },
  {
   "cell_type": "code",
   "execution_count": 4,
   "metadata": {},
   "outputs": [],
   "source": [
    "X, y = helpers.getfeatures(path, 'ant-1.4')"
   ]
  },
  {
   "cell_type": "code",
   "execution_count": 5,
   "metadata": {},
   "outputs": [],
   "source": [
    "model = MSDP(target = [0, 1],X = X, y = y, predict_model = 'linear', drawing = 1, l = -20, u = 20, maxgen = 100, moea = 1)"
   ]
  },
  {
   "cell_type": "code",
   "execution_count": 6,
   "metadata": {},
   "outputs": [
    {
     "data": {
      "image/png": "[encoded data removed]",
      "text/plain": [
       "<Figure size 432x288 with 1 Axes>"
      ]
     },
     "metadata": {
      "needs_background": "light"
     },
     "output_type": "display_data"
    }
   ],
   "source": [
    "model.run()"
   ]
  },
  {
   "cell_type": "code",
   "execution_count": 7,
   "metadata": {},
   "outputs": [
    {
     "data": {
      "text/plain": [
       "array([[  0.72316519,  43.2973891 ],\n",
       "       [  0.75723165,  75.68123684],\n",
       "       [  0.7292613 ,  45.54009436],\n",
       "       [  0.76177385, 126.33433086],\n",
       "       [  0.72340426,  44.13852889],\n",
       "       [  0.75866603,  88.98020213],\n",
       "       [  0.6828831 ,  33.46662574],\n",
       "       [  0.72173082,  42.66824456],\n",
       "       [  0.70164953,  36.38428632],\n",
       "       [  0.72615348,  44.28384378],\n",
       "       [  0.72268707,  42.77326124],\n",
       "       [  0.63949319,  31.86205049],\n",
       "       [  0.72149175,  42.61540363],\n",
       "       [  0.76129572, 126.25576161],\n",
       "       [  0.70045422,  35.19140991],\n",
       "       [  0.73224958,  46.29872341],\n",
       "       [  0.67439637,  32.25975084],\n",
       "       [  0.71551518,  38.99680863],\n",
       "       [  0.72101363,  42.54012553],\n",
       "       [  0.67977528,  33.34347358],\n",
       "       [  0.72304566,  43.28334154],\n",
       "       [  0.70081281,  35.21387733],\n",
       "       [  0.74360507,  55.46536697],\n",
       "       [  0.72364332,  44.28268954],\n",
       "       [  0.70690892,  37.33567947],\n",
       "       [  0.73141286,  45.75888285],\n",
       "       [  0.63865647,  28.09712913],\n",
       "       [  0.71575424,  39.95630228],\n",
       "       [  0.71886206,  41.16406458],\n",
       "       [  0.718623  ,  40.56313231],\n",
       "       [  0.72734879,  44.96055615],\n",
       "       [  0.73320583,  48.5042474 ],\n",
       "       [  0.70033469,  35.09964746],\n",
       "       [  0.71276596,  38.0851399 ],\n",
       "       [  0.70021516,  35.03105431],\n",
       "       [  0.72878317,  45.18265541],\n",
       "       [  0.75830743,  80.41690161],\n",
       "       [  0.75328711,  72.92167272],\n",
       "       [  0.73248864,  48.37932511],\n",
       "       [  0.76057853, 102.84560163],\n",
       "       [  0.75735118,  79.08124063],\n",
       "       [  0.70714798,  37.39838794],\n",
       "       [  0.63339708,  27.19180831],\n",
       "       [  0.72029644,  42.37038357],\n",
       "       [  0.74958164,  63.75300318],\n",
       "       [  0.75531915,  72.99104595],\n",
       "       [  0.76105666, 124.22605538],\n",
       "       [  0.74934258,  63.60440804],\n",
       "       [  0.71981831,  42.24157053],\n",
       "       [  0.74814726,  56.52450421],\n",
       "       [  0.74623476,  55.89532994],\n",
       "       [  0.62646426,  27.15439092],\n",
       "       [  0.73153239,  45.92683299],\n",
       "       [  0.7018886 ,  36.54463024],\n",
       "       [  0.75842697,  88.92573627],\n",
       "       [  0.73894334,  50.22502057],\n",
       "       [  0.718623  ,  40.56313231],\n",
       "       [  0.638776  ,  31.40978199],\n",
       "       [  0.74886445,  62.57154261],\n",
       "       [  0.70619173,  36.70807315],\n",
       "       [  0.74073631,  54.37109578],\n",
       "       [  0.75543868,  74.52440734],\n",
       "       [  0.75173321,  65.68111662],\n",
       "       [  0.71694956,  40.54382977],\n",
       "       [  0.63781975,  27.62781744],\n",
       "       [  0.71969878,  41.40814203],\n",
       "       [  0.71886206,  41.16406458],\n",
       "       [  0.7292613 ,  45.54009436],\n",
       "       [  0.7292613 ,  45.54009436],\n",
       "       [  0.76117619, 126.09588406],\n",
       "       [  0.70774564,  37.55550751],\n",
       "       [  0.74276835,  54.44510707],\n",
       "       [  0.63865647,  28.09712913],\n",
       "       [  0.73966053,  53.745112  ],\n",
       "       [  0.73069567,  45.56623114],\n",
       "       [  0.7608176 , 108.96056002],\n",
       "       [  0.73464021,  48.63603494],\n",
       "       [  0.67116902,  32.16285021],\n",
       "       [  0.70858236,  37.7940378 ],\n",
       "       [  0.67475496,  33.26548516]])"
      ]
     },
     "execution_count": 7,
     "metadata": {},
     "output_type": "execute_result"
    }
   ],
   "source": [
    "model.NDSet.ObjV"
   ]
  },
  {
   "cell_type": "code",
   "execution_count": 11,
   "metadata": {},
   "outputs": [
    {
     "data": {
      "text/plain": [
       "array([0.72316519, 0.75723165, 0.7292613 , 0.76177385, 0.72340426,\n",
       "       0.75866603, 0.6828831 , 0.72173082, 0.70164953, 0.72615348,\n",
       "       0.72268707, 0.63949319, 0.72149175, 0.76129572, 0.70045422,\n",
       "       0.73224958, 0.67439637, 0.71551518, 0.72101363, 0.67977528,\n",
       "       0.72304566, 0.70081281, 0.74360507, 0.72364332, 0.70690892,\n",
       "       0.73141286, 0.63865647, 0.71575424, 0.71886206, 0.718623  ,\n",
       "       0.72734879, 0.73320583, 0.70033469, 0.71276596, 0.70021516,\n",
       "       0.72878317, 0.75830743, 0.75328711, 0.73248864, 0.76057853,\n",
       "       0.75735118, 0.70714798, 0.63339708, 0.72029644, 0.74958164,\n",
       "       0.75531915, 0.76105666, 0.74934258, 0.71981831, 0.74814726,\n",
       "       0.74623476, 0.62646426, 0.73153239, 0.7018886 , 0.75842697,\n",
       "       0.73894334, 0.718623  , 0.638776  , 0.74886445, 0.70619173,\n",
       "       0.74073631, 0.75543868, 0.75173321, 0.71694956, 0.63781975,\n",
       "       0.71969878, 0.71886206, 0.7292613 , 0.7292613 , 0.76117619,\n",
       "       0.70774564, 0.74276835, 0.63865647, 0.73966053, 0.73069567,\n",
       "       0.7608176 , 0.73464021, 0.67116902, 0.70858236, 0.67475496])"
      ]
     },
     "execution_count": 11,
     "metadata": {},
     "output_type": "execute_result"
    }
   ],
   "source": [
    "model.NDSet.ObjV[:,0]"
   ]
  },
  {
   "cell_type": "code",
   "execution_count": 12,
   "metadata": {},
   "outputs": [
    {
     "data": {
      "text/plain": [
       "array([[ -5.67087927,   0.77557813,  -1.43502507, ...,   0.64580866,\n",
       "        -17.13049599, -19.54398848],\n",
       "       [ -5.53911699,   0.19309372,  -2.21763297, ...,  -1.05146961,\n",
       "        -17.50405789, -19.48727274],\n",
       "       [ -5.67202409,   0.67040677,  -1.60980424, ...,  -0.30230533,\n",
       "        -18.18685784, -17.35236072],\n",
       "       ...,\n",
       "       [ -5.53822518,  -4.50512314,  -1.58035635, ...,  -1.19747359,\n",
       "        -14.07384165, -17.22988625],\n",
       "       [ -5.53069218,  -4.51077411,  -1.43462437, ...,   0.81508588,\n",
       "        -17.44695059, -17.42766304],\n",
       "       [ -6.48717572,  -5.41145317,  -1.58034792, ...,  -0.03104509,\n",
       "        -14.28337166, -19.50784544]])"
      ]
     },
     "execution_count": 12,
     "metadata": {},
     "output_type": "execute_result"
    }
   ],
   "source": [
    "model.NDSet.Chrom"
   ]
  },
  {
   "cell_type": "code",
   "execution_count": 13,
   "metadata": {},
   "outputs": [
    {
     "data": {
      "text/plain": [
       "array([[ -5.67087927,   0.77557813,  -1.43502507, ...,   0.64580866,\n",
       "        -17.13049599, -19.54398848],\n",
       "       [ -5.53911699,   0.19309372,  -2.21763297, ...,  -1.05146961,\n",
       "        -17.50405789, -19.48727274],\n",
       "       [ -5.67202409,   0.67040677,  -1.60980424, ...,  -0.30230533,\n",
       "        -18.18685784, -17.35236072],\n",
       "       ...,\n",
       "       [ -5.53822518,  -4.50512314,  -1.58035635, ...,  -1.19747359,\n",
       "        -14.07384165, -17.22988625],\n",
       "       [ -5.53069218,  -4.51077411,  -1.43462437, ...,   0.81508588,\n",
       "        -17.44695059, -17.42766304],\n",
       "       [ -6.48717572,  -5.41145317,  -1.58034792, ...,  -0.03104509,\n",
       "        -14.28337166, -19.50784544]])"
      ]
     },
     "execution_count": 13,
     "metadata": {},
     "output_type": "execute_result"
    }
   ],
   "source": [
    "model.NDSet.Phen"
   ]
  },
  {
   "cell_type": "code",
   "execution_count": 14,
   "metadata": {},
   "outputs": [],
   "source": [
    "import target_functions as tgf"
   ]
  },
  {
   "cell_type": "code",
   "execution_count": 15,
   "metadata": {},
   "outputs": [],
   "source": [
    "predValue = tgf.linear_predict(X, model.NDSet.Chrom)"
   ]
  },
  {
   "cell_type": "code",
   "execution_count": 16,
   "metadata": {},
   "outputs": [
    {
     "data": {
      "text/plain": [
       "array([[ 23.15413027,  67.17750843,  41.36685213, ...,   9.26989065,\n",
       "          8.8017375 ,   5.95248072],\n",
       "       [ 92.67613988, 134.29490233,  95.6893525 , ...,  65.74703668,\n",
       "         81.85109591,  64.41986825],\n",
       "       [-27.17788344, -45.83507467, -25.02650427, ..., -25.19825071,\n",
       "        -27.17752246, -33.57073123],\n",
       "       ...,\n",
       "       [ -3.88170811,  24.4502884 ,   1.90076077, ..., -41.87403241,\n",
       "        -16.93915085, -14.41979651],\n",
       "       [ 72.98635301,  97.99838353,  95.38907532, ...,  72.37615194,\n",
       "         60.30410762, 115.7101294 ],\n",
       "       [ -7.08948004,   3.98494024,  -4.27762788, ..., -25.89483792,\n",
       "        -11.50585527, -27.3952013 ]])"
      ]
     },
     "execution_count": 16,
     "metadata": {},
     "output_type": "execute_result"
    }
   ],
   "source": [
    "predValue"
   ]
  },
  {
   "cell_type": "code",
   "execution_count": 17,
   "metadata": {},
   "outputs": [],
   "source": [
    "f1 = tgf.FPA(predValue, y)\n",
    "f2 = tgf.AAE(predValue, y)\n",
    "f3 = tgf.numOfnonZero(model.NDSet.Chrom)\n",
    "f4 = tgf.l1_values(model.NDSet.Chrom)\n",
    "f5 = tgf.MSE(predValue, y)"
   ]
  },
  {
   "cell_type": "code",
   "execution_count": 18,
   "metadata": {},
   "outputs": [
    {
     "data": {
      "text/plain": [
       "array([0.72316519, 0.75723165, 0.7292613 , 0.76177385, 0.72340426,\n",
       "       0.75866603, 0.6828831 , 0.72173082, 0.70164953, 0.72615348,\n",
       "       0.72268707, 0.63949319, 0.72149175, 0.76129572, 0.70045422,\n",
       "       0.73224958, 0.67439637, 0.71551518, 0.72101363, 0.67977528,\n",
       "       0.72304566, 0.70081281, 0.74360507, 0.72364332, 0.70690892,\n",
       "       0.73141286, 0.63865647, 0.71575424, 0.71886206, 0.718623  ,\n",
       "       0.72734879, 0.73320583, 0.70033469, 0.71276596, 0.70021516,\n",
       "       0.72878317, 0.75830743, 0.75328711, 0.73248864, 0.76057853,\n",
       "       0.75735118, 0.70714798, 0.63339708, 0.72029644, 0.74958164,\n",
       "       0.75531915, 0.76105666, 0.74934258, 0.71981831, 0.74814726,\n",
       "       0.74623476, 0.62646426, 0.73153239, 0.7018886 , 0.75842697,\n",
       "       0.73894334, 0.718623  , 0.638776  , 0.74886445, 0.70619173,\n",
       "       0.74073631, 0.75543868, 0.75173321, 0.71694956, 0.63781975,\n",
       "       0.71969878, 0.71886206, 0.7292613 , 0.7292613 , 0.76117619,\n",
       "       0.70774564, 0.74276835, 0.63865647, 0.73966053, 0.73069567,\n",
       "       0.7608176 , 0.73464021, 0.67116902, 0.70858236, 0.67475496])"
      ]
     },
     "execution_count": 18,
     "metadata": {},
     "output_type": "execute_result"
    }
   ],
   "source": [
    "f1"
   ]
  },
  {
   "cell_type": "code",
   "execution_count": 19,
   "metadata": {},
   "outputs": [
    {
     "data": {
      "text/plain": [
       "array([ 43.2973891 ,  75.68123684,  45.54009436, 126.33433086,\n",
       "        44.13852889,  88.98020213,  33.46662574,  42.66824456,\n",
       "        36.38428632,  44.28384378,  42.77326124,  31.86205049,\n",
       "        42.61540363, 126.25576161,  35.19140991,  46.29872341,\n",
       "        32.25975084,  38.99680863,  42.54012553,  33.34347358,\n",
       "        43.28334154,  35.21387733,  55.46536697,  44.28268954,\n",
       "        37.33567947,  45.75888285,  28.09712913,  39.95630228,\n",
       "        41.16406458,  40.56313231,  44.96055615,  48.5042474 ,\n",
       "        35.09964746,  38.0851399 ,  35.03105431,  45.18265541,\n",
       "        80.41690161,  72.92167272,  48.37932511, 102.84560163,\n",
       "        79.08124063,  37.39838794,  27.19180831,  42.37038357,\n",
       "        63.75300318,  72.99104595, 124.22605538,  63.60440804,\n",
       "        42.24157053,  56.52450421,  55.89532994,  27.15439092,\n",
       "        45.92683299,  36.54463024,  88.92573627,  50.22502057,\n",
       "        40.56313231,  31.40978199,  62.57154261,  36.70807315,\n",
       "        54.37109578,  74.52440734,  65.68111662,  40.54382977,\n",
       "        27.62781744,  41.40814203,  41.16406458,  45.54009436,\n",
       "        45.54009436, 126.09588406,  37.55550751,  54.44510707,\n",
       "        28.09712913,  53.745112  ,  45.56623114, 108.96056002,\n",
       "        48.63603494,  32.16285021,  37.7940378 ,  33.26548516])"
      ]
     },
     "execution_count": 19,
     "metadata": {},
     "output_type": "execute_result"
    }
   ],
   "source": [
    "f2"
   ]
  },
  {
   "cell_type": "code",
   "execution_count": 20,
   "metadata": {},
   "outputs": [
    {
     "data": {
      "text/plain": [
       "array([21., 21., 21., 21., 21., 21., 21., 21., 21., 21., 21., 21., 21.,\n",
       "       21., 21., 21., 21., 21., 21., 21., 21., 21., 21., 21., 21., 21.,\n",
       "       21., 21., 21., 21., 21., 21., 21., 21., 21., 21., 21., 21., 21.,\n",
       "       21., 21., 21., 21., 21., 21., 21., 21., 21., 21., 21., 21., 21.,\n",
       "       21., 21., 21., 21., 21., 21., 21., 21., 21., 21., 21., 21., 21.,\n",
       "       21., 21., 21., 21., 21., 21., 21., 21., 21., 21., 21., 21., 21.,\n",
       "       21., 21.])"
      ]
     },
     "execution_count": 20,
     "metadata": {},
     "output_type": "execute_result"
    }
   ],
   "source": [
    "f3"
   ]
  },
  {
   "cell_type": "code",
   "execution_count": 21,
   "metadata": {},
   "outputs": [
    {
     "data": {
      "text/plain": [
       "array([135.44488402, 169.4359152 , 154.12723145, 200.88411728,\n",
       "       126.42892476, 183.04129501, 132.80410787, 137.40031361,\n",
       "       133.84942816, 144.09779234, 125.58366055, 158.38641047,\n",
       "       137.63118167, 195.26979857, 130.73838905, 154.23735299,\n",
       "       135.8300462 , 151.98377272, 139.14314332, 132.63325988,\n",
       "       134.0362858 , 130.79262184, 130.2050448 , 125.71441649,\n",
       "       127.79415967, 153.08488187, 162.31028409, 125.8724708 ,\n",
       "       134.37231325, 122.60716235, 125.57318203, 130.40056069,\n",
       "       130.8591125 , 125.50949905, 131.11619355, 153.58619787,\n",
       "       181.30294098, 169.86792177, 137.13270428, 184.29268245,\n",
       "       186.01070954, 131.33636353, 164.71203163, 122.78001299,\n",
       "       161.62044593, 169.83895474, 196.70332434, 159.75172113,\n",
       "       123.42994633, 155.78063294, 156.57168302, 157.10403437,\n",
       "       150.43714772, 135.59110018, 183.08863829, 149.97888189,\n",
       "       122.60716235, 162.5123376 , 167.38201984, 127.14429229,\n",
       "       153.8275036 , 171.38409118, 161.10713016, 124.39240695,\n",
       "       160.29184345, 120.13755898, 134.37231325, 154.12723145,\n",
       "       154.12723145, 199.94731426, 130.80853729, 161.3023957 ,\n",
       "       162.31028409, 151.59204201, 151.46893003, 189.24600295,\n",
       "       130.37500594, 129.58873   , 130.42841066, 139.2161077 ])"
      ]
     },
     "execution_count": 21,
     "metadata": {},
     "output_type": "execute_result"
    }
   ],
   "source": [
    "f4"
   ]
  },
  {
   "cell_type": "code",
   "execution_count": 22,
   "metadata": {},
   "outputs": [
    {
     "data": {
      "text/plain": [
       "array([ 4822.38435495, 17048.55097258,  4932.94382975, 36920.16526096,\n",
       "        4831.73976075, 19255.44509902,  2711.52640689,  4725.48903695,\n",
       "        3750.43987459,  5421.22646814,  4397.68451965,  2784.73798022,\n",
       "        4728.06211217, 38762.85549178,  3004.70411995,  4926.95633618,\n",
       "        2579.69842381,  3999.1733575 ,  5066.40944962,  2685.41697572,\n",
       "        4739.60858719,  3006.04442877,  7023.08201743,  4849.57329619,\n",
       "        3916.89643421,  4929.57728167,  2354.03819735,  4286.17492908,\n",
       "        4524.70674425,  4286.02670151,  5107.56452004,  5503.48043199,\n",
       "        3491.69386897,  3935.0435992 ,  3463.39534507,  4819.81087316,\n",
       "       17192.30950493, 16550.33829579,  5527.89635886, 32201.36766072,\n",
       "       16993.44521197,  3906.8674674 ,  2220.36211016,  4363.48972297,\n",
       "        9251.75576418, 16311.28006073, 38817.60635144,  8656.21034992,\n",
       "        4356.59835857,  7934.68582185,  7966.86743954,  2069.49475881,\n",
       "        4849.58800617,  3668.81639621, 19910.38346477,  6113.56372312,\n",
       "        4286.02670151,  2728.30686203,  8032.73245011,  3559.44367294,\n",
       "        6613.97911646, 16641.54475535, 10188.49886766,  4194.2631044 ,\n",
       "        2288.12109037,  4422.59519348,  4524.70674425,  4932.94382975,\n",
       "        4932.94382975, 36424.58031673,  3884.35326316,  8301.36045473,\n",
       "        2354.03819735,  5963.60929497,  4901.5775332 , 32815.82562732,\n",
       "        5404.66218978,  2620.69911215,  3917.7741519 ,  2706.97990019])"
      ]
     },
     "execution_count": 22,
     "metadata": {},
     "output_type": "execute_result"
    }
   ],
   "source": [
    "f5"
   ]
  },
  {
   "cell_type": "code",
   "execution_count": 23,
   "metadata": {},
   "outputs": [
    {
     "data": {
      "text/plain": [
       "array([0.72316519, 0.75723165, 0.7292613 , 0.76177385, 0.72340426,\n",
       "       0.75866603, 0.6828831 , 0.72173082, 0.70164953, 0.72615348,\n",
       "       0.72268707, 0.63949319, 0.72149175, 0.76129572, 0.70045422,\n",
       "       0.73224958, 0.67439637, 0.71551518, 0.72101363, 0.67977528,\n",
       "       0.72304566, 0.70081281, 0.74360507, 0.72364332, 0.70690892,\n",
       "       0.73141286, 0.63865647, 0.71575424, 0.71886206, 0.718623  ,\n",
       "       0.72734879, 0.73320583, 0.70033469, 0.71276596, 0.70021516,\n",
       "       0.72878317, 0.75830743, 0.75328711, 0.73248864, 0.76057853,\n",
       "       0.75735118, 0.70714798, 0.63339708, 0.72029644, 0.74958164,\n",
       "       0.75531915, 0.76105666, 0.74934258, 0.71981831, 0.74814726,\n",
       "       0.74623476, 0.62646426, 0.73153239, 0.7018886 , 0.75842697,\n",
       "       0.73894334, 0.718623  , 0.638776  , 0.74886445, 0.70619173,\n",
       "       0.74073631, 0.75543868, 0.75173321, 0.71694956, 0.63781975,\n",
       "       0.71969878, 0.71886206, 0.7292613 , 0.7292613 , 0.76117619,\n",
       "       0.70774564, 0.74276835, 0.63865647, 0.73966053, 0.73069567,\n",
       "       0.7608176 , 0.73464021, 0.67116902, 0.70858236, 0.67475496])"
      ]
     },
     "execution_count": 23,
     "metadata": {},
     "output_type": "execute_result"
    }
   ],
   "source": [
    "model.NDSet.ObjV[:,0]"
   ]
  },
  {
   "cell_type": "code",
   "execution_count": 27,
   "metadata": {},
   "outputs": [
    {
     "data": {
      "text/plain": [
       "array([14.64030138, 14.56779771, 10.56138065, 11.57346021, 91.19464808,\n",
       "       32.85315705, 20.4538587 , 13.50245393, 23.69497075, 35.99480537,\n",
       "       11.45731972, 15.80994787, 79.0571468 , 15.92218046, 22.97926418,\n",
       "       45.86656077, 18.5251775 , 10.34730454, 33.22746226, 41.6288621 ,\n",
       "       20.07167578, 57.76938227, 60.43726924, 10.86892499, 20.92690488,\n",
       "       19.77048696, 46.08641168, 46.62810661, 60.06572709, 64.75900171,\n",
       "       13.76279735, 76.63688882])"
      ]
     },
     "execution_count": 27,
     "metadata": {},
     "output_type": "execute_result"
    }
   ],
   "source": [
    "model.NDSet.ObjV[:,1]"
   ]
  },
  {
   "cell_type": "code",
   "execution_count": 24,
   "metadata": {},
   "outputs": [],
   "source": [
    "set_t = model.NDSet.ObjV[:, 1]\n",
    "set_t = list(set_t)\n",
    "set_t.insert(0, 'ant-1.3')"
   ]
  },
  {
   "cell_type": "code",
   "execution_count": 25,
   "metadata": {},
   "outputs": [
    {
     "data": {
      "text/plain": [
       "['ant-1.3',\n",
       " 43.29738910029456,\n",
       " 75.68123684143839,\n",
       " 45.54009435916769,\n",
       " 126.33433086346496,\n",
       " 44.13852889065601,\n",
       " 88.98020213200545,\n",
       " 33.466625740073034,\n",
       " 42.66824455981182,\n",
       " 36.384286320753006,\n",
       " 44.28384377850947,\n",
       " 42.77326123996192,\n",
       " 31.862050488470313,\n",
       " 42.615403631304424,\n",
       " 126.25576161064238,\n",
       " 35.19140990851025,\n",
       " 46.29872341214946,\n",
       " 32.25975083953899,\n",
       " 38.99680862777047,\n",
       " 42.54012552652303,\n",
       " 33.34347358403621,\n",
       " 43.28334153820915,\n",
       " 35.21387732991417,\n",
       " 55.465366973533776,\n",
       " 44.28268953892649,\n",
       " 37.335679472019116,\n",
       " 45.75888285236532,\n",
       " 28.097129132806515,\n",
       " 39.95630228158785,\n",
       " 41.16406457821983,\n",
       " 40.56313231258069,\n",
       " 44.96055614819491,\n",
       " 48.504247404651025,\n",
       " 35.09964746427921,\n",
       " 38.08513990274341,\n",
       " 35.03105430854527,\n",
       " 45.182655411996016,\n",
       " 80.4169016120929,\n",
       " 72.9216727228432,\n",
       " 48.379325110180936,\n",
       " 102.84560162546512,\n",
       " 79.08124062641889,\n",
       " 37.398387935460185,\n",
       " 27.19180830849186,\n",
       " 42.37038356639394,\n",
       " 63.75300318256931,\n",
       " 72.99104595323423,\n",
       " 124.22605537777385,\n",
       " 63.604408035129104,\n",
       " 42.241570529935935,\n",
       " 56.52450420656726,\n",
       " 55.895329938087016,\n",
       " 27.15439092437941,\n",
       " 45.92683299226649,\n",
       " 36.54463024381564,\n",
       " 88.92573626613137,\n",
       " 50.22502056704842,\n",
       " 40.56313231258069,\n",
       " 31.409781985853478,\n",
       " 62.57154261463527,\n",
       " 36.708073152446154,\n",
       " 54.37109578393884,\n",
       " 74.52440734010553,\n",
       " 65.68111662102935,\n",
       " 40.54382976502358,\n",
       " 27.627817443971168,\n",
       " 41.40814203340689,\n",
       " 41.16406457821983,\n",
       " 45.54009435916769,\n",
       " 45.54009435916769,\n",
       " 126.09588406390158,\n",
       " 37.55550750722946,\n",
       " 54.445107069500565,\n",
       " 28.097129132806515,\n",
       " 53.745111997840674,\n",
       " 45.566231143507515,\n",
       " 108.96056001678686,\n",
       " 48.63603493542073,\n",
       " 32.16285020920055,\n",
       " 37.79403779709272,\n",
       " 33.26548516349405]"
      ]
     },
     "execution_count": 25,
     "metadata": {},
     "output_type": "execute_result"
    }
   ],
   "source": [
    "set_t"
   ]
  },
  {
   "cell_type": "code",
   "execution_count": 26,
   "metadata": {},
   "outputs": [
    {
     "data": {
      "text/plain": [
       "['ant-1.3',\n",
       " 0.7231651924456132,\n",
       " 0.7572316519244562,\n",
       " 0.7292612957207746,\n",
       " 0.7617738465216352,\n",
       " 0.723404255319149,\n",
       " 0.7586660291656706,\n",
       " 0.6828830982548411,\n",
       " 0.7217308152043987,\n",
       " 0.7016495338273966,\n",
       " 0.7261534783648099,\n",
       " 0.7226870666985418,\n",
       " 0.6394931867081042,\n",
       " 0.721491752330863,\n",
       " 0.7612957207745638,\n",
       " 0.7004542194597179,\n",
       " 0.7322495816399713,\n",
       " 0.6743963662443223,\n",
       " 0.7155151804924695,\n",
       " 0.7210136265837915,\n",
       " 0.6797752808988764,\n",
       " 0.7230456610088454,\n",
       " 0.7008128137700215,\n",
       " 0.7436050681329189,\n",
       " 0.7236433181926847,\n",
       " 0.7069089170451829,\n",
       " 0.7314128615825962,\n",
       " 0.6386564666507292,\n",
       " 0.7157542433660052,\n",
       " 0.7188620607219699,\n",
       " 0.7186229978484341,\n",
       " 0.7273487927324886,\n",
       " 0.7332058331341142,\n",
       " 0.7003346880229501,\n",
       " 0.7127659574468085,\n",
       " 0.7002151565861822,\n",
       " 0.7287831699737031,\n",
       " 0.758307434855367,\n",
       " 0.7532871145111164,\n",
       " 0.732488644513507,\n",
       " 0.7605785321539565,\n",
       " 0.757351183361224,\n",
       " 0.7071479799187186,\n",
       " 0.6333970834329429,\n",
       " 0.7202964379631843,\n",
       " 0.7495816399713124,\n",
       " 0.7553191489361702,\n",
       " 0.7610566579010279,\n",
       " 0.7493425770977767,\n",
       " 0.7198183122161128,\n",
       " 0.748147262730098,\n",
       " 0.7462347597418121,\n",
       " 0.6264642601004065,\n",
       " 0.7315323930193641,\n",
       " 0.7018885967009324,\n",
       " 0.7584269662921348,\n",
       " 0.7389433420989721,\n",
       " 0.7186229978484341,\n",
       " 0.638775998087497,\n",
       " 0.7488644513507052,\n",
       " 0.7061917284245757,\n",
       " 0.7407363136504901,\n",
       " 0.755438680372938,\n",
       " 0.7517332058331341,\n",
       " 0.716949557733684,\n",
       " 0.637819746593354,\n",
       " 0.719698780779345,\n",
       " 0.7188620607219699,\n",
       " 0.7292612957207746,\n",
       " 0.7292612957207746,\n",
       " 0.7611761893377958,\n",
       " 0.707745637102558,\n",
       " 0.7427683480755438,\n",
       " 0.6386564666507292,\n",
       " 0.7396605307195793,\n",
       " 0.730695672961989,\n",
       " 0.7608175950274922,\n",
       " 0.7346402103753287,\n",
       " 0.6711690174515897,\n",
       " 0.708582357159933,\n",
       " 0.6747549605546259]"
      ]
     },
     "execution_count": 26,
     "metadata": {},
     "output_type": "execute_result"
    }
   ],
   "source": [
    "f1_set = list(f1)\n",
    "f1_set.insert(0, 'ant-1.3')\n",
    "f1_set"
   ]
  },
  {
   "cell_type": "code",
   "execution_count": 18,
   "metadata": {},
   "outputs": [],
   "source": [
    "p =model.NDSet.Chrom"
   ]
  },
  {
   "cell_type": "code",
   "execution_count": 19,
   "metadata": {},
   "outputs": [
    {
     "data": {
      "text/plain": [
       "array([[0.        , 2.06793396, 0.        , ..., 0.        , 0.        ,\n",
       "        0.        ],\n",
       "       [0.        , 0.        , 0.        , ..., 0.        , 0.        ,\n",
       "        0.        ],\n",
       "       [0.        , 0.        , 0.        , ..., 0.        , 0.        ,\n",
       "        0.        ],\n",
       "       ...,\n",
       "       [0.        , 2.2071913 , 0.        , ..., 0.        , 0.        ,\n",
       "        0.        ],\n",
       "       [0.        , 2.1637615 , 0.        , ..., 0.        , 0.        ,\n",
       "        0.        ],\n",
       "       [0.        , 2.025527  , 1.64745496, ..., 0.        , 0.        ,\n",
       "        0.        ]])"
      ]
     },
     "execution_count": 19,
     "metadata": {},
     "output_type": "execute_result"
    }
   ],
   "source": [
    "p"
   ]
  },
  {
   "cell_type": "code",
   "execution_count": 20,
   "metadata": {},
   "outputs": [
    {
     "data": {
      "text/plain": [
       "(56, 21)"
      ]
     },
     "execution_count": 20,
     "metadata": {},
     "output_type": "execute_result"
    }
   ],
   "source": [
    "p.shape"
   ]
  },
  {
   "cell_type": "code",
   "execution_count": 21,
   "metadata": {},
   "outputs": [],
   "source": [
    "max_index = p.argmax(axis = 1)"
   ]
  },
  {
   "cell_type": "code",
   "execution_count": 22,
   "metadata": {},
   "outputs": [
    {
     "data": {
      "text/plain": [
       "array([ 8,  7,  9,  8, 12, 12,  7,  8,  7, 12,  8, 12, 12, 12,  8,  8,  8,\n",
       "        8, 12,  8, 12,  8,  7, 12,  9, 12, 12,  8,  7, 12,  8,  8,  8,  8,\n",
       "        8,  8, 12, 12, 12, 12, 12,  8,  7,  8,  7,  7,  7,  8, 12,  7, 12,\n",
       "        8,  8, 12,  8, 12], dtype=int64)"
      ]
     },
     "execution_count": 22,
     "metadata": {},
     "output_type": "execute_result"
    }
   ],
   "source": [
    "max_index"
   ]
  },
  {
   "cell_type": "code",
   "execution_count": 23,
   "metadata": {},
   "outputs": [],
   "source": [
    "for i in range (p.shape[0]):\n",
    "    max_v = p[i][max_index[i]] * 0.1\n",
    "    for j in range(p.shape[1]):\n",
    "        if p[i][j] <= max_v:\n",
    "            p[i][j] = 0"
   ]
  },
  {
   "cell_type": "code",
   "execution_count": 24,
   "metadata": {
    "scrolled": true
   },
   "outputs": [
    {
     "data": {
      "text/plain": [
       "array([[0.        , 2.06793396, 0.        , ..., 0.        , 0.        ,\n",
       "        0.        ],\n",
       "       [0.        , 0.        , 0.        , ..., 0.        , 0.        ,\n",
       "        0.        ],\n",
       "       [0.        , 0.        , 0.        , ..., 0.        , 0.        ,\n",
       "        0.        ],\n",
       "       ...,\n",
       "       [0.        , 2.2071913 , 0.        , ..., 0.        , 0.        ,\n",
       "        0.        ],\n",
       "       [0.        , 2.1637615 , 0.        , ..., 0.        , 0.        ,\n",
       "        0.        ],\n",
       "       [0.        , 2.025527  , 1.64745496, ..., 0.        , 0.        ,\n",
       "        0.        ]])"
      ]
     },
     "execution_count": 24,
     "metadata": {},
     "output_type": "execute_result"
    }
   ],
   "source": [
    "p"
   ]
  },
  {
   "cell_type": "code",
   "execution_count": 25,
   "metadata": {},
   "outputs": [],
   "source": [
    "from sklearn.linear_model import RidgeCV"
   ]
  },
  {
   "cell_type": "code",
   "execution_count": 26,
   "metadata": {},
   "outputs": [],
   "source": [
    "test_X, test_y = helpers.getfeatures(path, 'ant-1.4')\n",
    "train_X, train_y = helpers.getfeatures(path, 'ant-1.3')"
   ]
  },
  {
   "cell_type": "code",
   "execution_count": 33,
   "metadata": {},
   "outputs": [],
   "source": [
    "import numpy as np\n",
    "alpha = [0.001, 0.01, 0.1, 1, 5, 10, 15, 20, 25, 30, 50, 100, 300, 500, 1000]"
   ]
  },
  {
   "cell_type": "code",
   "execution_count": 34,
   "metadata": {},
   "outputs": [
    {
     "data": {
      "text/plain": [
       "[0.001, 0.01, 0.1, 1, 5, 10, 15, 20, 25, 30, 50, 100, 300, 500, 1000]"
      ]
     },
     "execution_count": 34,
     "metadata": {},
     "output_type": "execute_result"
    }
   ],
   "source": [
    "alpha"
   ]
  },
  {
   "cell_type": "code",
   "execution_count": 36,
   "metadata": {},
   "outputs": [],
   "source": [
    "model = RidgeCV(alphas = alpha, cv = 10)"
   ]
  },
  {
   "cell_type": "code",
   "execution_count": 37,
   "metadata": {},
   "outputs": [
    {
     "data": {
      "text/plain": [
       "RidgeCV(alphas=[0.001, 0.01, 0.1, 1, 5, 10, 15, 20, 25, 30, 50, 100, 300, 500, 1000],\n",
       "    cv=10, fit_intercept=True, gcv_mode=None, normalize=False,\n",
       "    scoring=None, store_cv_values=False)"
      ]
     },
     "execution_count": 37,
     "metadata": {},
     "output_type": "execute_result"
    }
   ],
   "source": [
    "model.fit(train_X, train_y)"
   ]
  },
  {
   "cell_type": "code",
   "execution_count": 38,
   "metadata": {},
   "outputs": [
    {
     "data": {
      "text/plain": [
       "1000"
      ]
     },
     "execution_count": 38,
     "metadata": {},
     "output_type": "execute_result"
    }
   ],
   "source": [
    "model.alpha_"
   ]
  },
  {
   "cell_type": "code",
   "execution_count": 49,
   "metadata": {},
   "outputs": [],
   "source": [
    "parameters = np.concatenate((model.coef_ ,[model.intercept_]))"
   ]
  },
  {
   "cell_type": "code",
   "execution_count": 50,
   "metadata": {},
   "outputs": [
    {
     "data": {
      "text/plain": [
       "array([ 0.00189814, -0.00934559, -0.00383355, -0.00518535,  0.0124542 ,\n",
       "       -0.00079146,  0.00830763,  0.00785171, -0.02077889,  0.00067823,\n",
       "        0.0006241 ,  0.00101287, -0.00158861, -0.00245541, -0.00147658,\n",
       "       -0.00498303, -0.00557202, -0.00410999, -0.00924105, -0.00189797,\n",
       "        0.01119049])"
      ]
     },
     "execution_count": 50,
     "metadata": {},
     "output_type": "execute_result"
    }
   ],
   "source": [
    "parameters"
   ]
  },
  {
   "cell_type": "code",
   "execution_count": 41,
   "metadata": {},
   "outputs": [
    {
     "data": {
      "text/plain": [
       "1000"
      ]
     },
     "execution_count": 41,
     "metadata": {},
     "output_type": "execute_result"
    }
   ],
   "source": [
    "model.alpha_"
   ]
  },
  {
   "cell_type": "code",
   "execution_count": 1,
   "metadata": {},
   "outputs": [
    {
     "name": "stdout",
     "output_type": "stream",
     "text": [
      "WARNING:tensorflow:From D:\\python\\lib\\site-packages\\tensorflow_core\\python\\compat\\v2_compat.py:65: disable_resource_variables (from tensorflow.python.ops.variable_scope) is deprecated and will be removed in a future version.\n",
      "Instructions for updating:\n",
      "non-resource variables are not supported in the long term\n"
     ]
    }
   ],
   "source": [
    "import plotting"
   ]
  },
  {
   "cell_type": "code",
   "execution_count": 2,
   "metadata": {},
   "outputs": [
    {
     "ename": "ValueError",
     "evalue": "x and y must be the same size",
     "traceback": [
      "\u001b[0;31m---------------------------------------------------------------------------\u001b[0m",
      "\u001b[0;31mValueError\u001b[0m                                Traceback (most recent call last)",
      "\u001b[0;32m<ipython-input-2-f6b95a4b6057>\u001b[0m in \u001b[0;36m<module>\u001b[0;34m()\u001b[0m\n\u001b[0;32m----> 1\u001b[0;31m \u001b[0mplotting\u001b[0m\u001b[0;34m.\u001b[0m\u001b[0mplotting_mix_ssmm_train\u001b[0m\u001b[0;34m(\u001b[0m\u001b[0mmoea_list\u001b[0m \u001b[0;34m=\u001b[0m \u001b[0;34m[\u001b[0m\u001b[0;36m1\u001b[0m\u001b[0;34m,\u001b[0m \u001b[0;36m3\u001b[0m\u001b[0;34m,\u001b[0m \u001b[0;36m10\u001b[0m\u001b[0;34m]\u001b[0m\u001b[0;34m,\u001b[0m \u001b[0msklearn_list\u001b[0m \u001b[0;34m=\u001b[0m \u001b[0;34m[\u001b[0m\u001b[0;36m1\u001b[0m\u001b[0;34m,\u001b[0m \u001b[0;36m2\u001b[0m\u001b[0;34m]\u001b[0m\u001b[0;34m,\u001b[0m \u001b[0msoea_list\u001b[0m \u001b[0;34m=\u001b[0m \u001b[0;34m[\u001b[0m\u001b[0;34m]\u001b[0m\u001b[0;34m,\u001b[0m \u001b[0mop_targets\u001b[0m \u001b[0;34m=\u001b[0m \u001b[0;34m[\u001b[0m\u001b[0;34m[\u001b[0m\u001b[0;36m0\u001b[0m\u001b[0;34m,\u001b[0m \u001b[0;36m1\u001b[0m\u001b[0;34m]\u001b[0m\u001b[0;34m,\u001b[0m \u001b[0;34m[\u001b[0m\u001b[0;36m0\u001b[0m\u001b[0;34m,\u001b[0m \u001b[0;36m2\u001b[0m\u001b[0;34m]\u001b[0m\u001b[0;34m,\u001b[0m \u001b[0;34m[\u001b[0m\u001b[0;36m0\u001b[0m\u001b[0;34m,\u001b[0m \u001b[0;36m1\u001b[0m\u001b[0;34m,\u001b[0m \u001b[0;36m2\u001b[0m\u001b[0;34m]\u001b[0m\u001b[0;34m,\u001b[0m \u001b[0;34m[\u001b[0m\u001b[0;36m0\u001b[0m\u001b[0;34m,\u001b[0m \u001b[0;36m3\u001b[0m\u001b[0;34m]\u001b[0m\u001b[0;34m,\u001b[0m \u001b[0;34m[\u001b[0m\u001b[0;36m0\u001b[0m\u001b[0;34m,\u001b[0m \u001b[0;36m2\u001b[0m\u001b[0;34m,\u001b[0m \u001b[0;36m4\u001b[0m\u001b[0;34m]\u001b[0m\u001b[0;34m,\u001b[0m \u001b[0;34m[\u001b[0m\u001b[0;36m0\u001b[0m\u001b[0;34m,\u001b[0m \u001b[0;36m4\u001b[0m\u001b[0;34m]\u001b[0m\u001b[0;34m]\u001b[0m \u001b[0;34m,\u001b[0m \u001b[0mtarget\u001b[0m \u001b[0;34m=\u001b[0m \u001b[0;34m[\u001b[0m\u001b[0;36m0\u001b[0m\u001b[0;34m,\u001b[0m \u001b[0;36m1\u001b[0m\u001b[0;34m]\u001b[0m\u001b[0;34m)\u001b[0m\u001b[0;34m\u001b[0m\u001b[0m\n\u001b[0m",
      "\u001b[0;32mD:\\个人资料O(∩_∩)O\\研三\\软件缺陷预测\\code\\plotting.py\u001b[0m in \u001b[0;36mplotting_mix_ssmm_train\u001b[0;34m(moea_list, sklearn_list, soea_list, op_targets, target)\u001b[0m\n\u001b[1;32m    132\u001b[0m     helpers.comparison_ssmm_train(single_paths=single_paths, multi_paths=multi_paths, parameters=target,\n\u001b[1;32m    133\u001b[0m                                   \u001b[0msingle_names\u001b[0m\u001b[0;34m=\u001b[0m\u001b[0msingle_names\u001b[0m\u001b[0;34m,\u001b[0m \u001b[0mmulti_names\u001b[0m\u001b[0;34m=\u001b[0m\u001b[0mmulti_names\u001b[0m\u001b[0;34m,\u001b[0m \u001b[0msave_path\u001b[0m\u001b[0;34m=\u001b[0m\u001b[0msave_path\u001b[0m\u001b[0;34m,\u001b[0m\u001b[0;34m\u001b[0m\u001b[0m\n\u001b[0;32m--> 134\u001b[0;31m                                   max_marker =max_marker)\n\u001b[0m\u001b[1;32m    135\u001b[0m \u001b[0;34m\u001b[0m\u001b[0m\n\u001b[1;32m    136\u001b[0m \u001b[0;32mdef\u001b[0m \u001b[0mplotting_mix_ssmm_test\u001b[0m\u001b[0;34m(\u001b[0m\u001b[0mmoea_list\u001b[0m\u001b[0;34m,\u001b[0m \u001b[0msklearn_list\u001b[0m\u001b[0;34m,\u001b[0m \u001b[0msoea_list\u001b[0m\u001b[0;34m,\u001b[0m \u001b[0mop_targets\u001b[0m\u001b[0;34m,\u001b[0m \u001b[0mtarget\u001b[0m\u001b[0;34m)\u001b[0m\u001b[0;34m:\u001b[0m\u001b[0;34m\u001b[0m\u001b[0m\n",
      "\u001b[0;32mD:\\个人资料O(∩_∩)O\\研三\\软件缺陷预测\\code\\helpers.py\u001b[0m in \u001b[0;36mcomparison_ssmm_train\u001b[0;34m(single_paths, multi_paths, parameters, single_names, multi_names, save_path, max_marker)\u001b[0m\n\u001b[1;32m    964\u001b[0m                 \u001b[0mm_x\u001b[0m \u001b[0;34m=\u001b[0m \u001b[0mlist\u001b[0m\u001b[0;34m(\u001b[0m\u001b[0mmap\u001b[0m\u001b[0;34m(\u001b[0m\u001b[0;32mlambda\u001b[0m \u001b[0mx\u001b[0m\u001b[0;34m:\u001b[0m\u001b[0mfloat\u001b[0m\u001b[0;34m(\u001b[0m\u001b[0mx\u001b[0m\u001b[0;34m)\u001b[0m\u001b[0;34m,\u001b[0m \u001b[0mmdata1\u001b[0m\u001b[0;34m[\u001b[0m\u001b[0mi\u001b[0m\u001b[0;34m]\u001b[0m\u001b[0;34m[\u001b[0m\u001b[0;36m1\u001b[0m\u001b[0;34m:\u001b[0m\u001b[0;34m]\u001b[0m\u001b[0;34m)\u001b[0m\u001b[0;34m)\u001b[0m\u001b[0;34m\u001b[0m\u001b[0m\n\u001b[1;32m    965\u001b[0m                 \u001b[0mm_y\u001b[0m \u001b[0;34m=\u001b[0m \u001b[0mlist\u001b[0m\u001b[0;34m(\u001b[0m\u001b[0mmap\u001b[0m\u001b[0;34m(\u001b[0m\u001b[0;32mlambda\u001b[0m \u001b[0mx\u001b[0m\u001b[0;34m:\u001b[0m\u001b[0mfloat\u001b[0m\u001b[0;34m(\u001b[0m\u001b[0mx\u001b[0m\u001b[0;34m)\u001b[0m\u001b[0;34m,\u001b[0m \u001b[0mmdata2\u001b[0m\u001b[0;34m[\u001b[0m\u001b[0mi\u001b[0m\u001b[0;34m]\u001b[0m\u001b[0;34m[\u001b[0m\u001b[0;36m1\u001b[0m\u001b[0;34m:\u001b[0m\u001b[0;34m]\u001b[0m\u001b[0;34m)\u001b[0m\u001b[0;34m)\u001b[0m\u001b[0;34m\u001b[0m\u001b[0m\n\u001b[0;32m--> 966\u001b[0;31m                 \u001b[0mplt\u001b[0m\u001b[0;34m.\u001b[0m\u001b[0mscatter\u001b[0m\u001b[0;34m(\u001b[0m\u001b[0mm_x\u001b[0m\u001b[0;34m,\u001b[0m \u001b[0mm_y\u001b[0m\u001b[0;34m,\u001b[0m \u001b[0mcolor\u001b[0m\u001b[0;34m=\u001b[0m\u001b[0mcolor_dict\u001b[0m\u001b[0;34m[\u001b[0m\u001b[0mmulti_color\u001b[0m\u001b[0;34m]\u001b[0m\u001b[0;34m,\u001b[0m \u001b[0mmarker\u001b[0m\u001b[0;34m=\u001b[0m\u001b[0mmarker_dict\u001b[0m\u001b[0;34m[\u001b[0m\u001b[0mmarker\u001b[0m\u001b[0;34m]\u001b[0m\u001b[0;34m,\u001b[0m \u001b[0mlabel\u001b[0m\u001b[0;34m=\u001b[0m \u001b[0mmulti_name\u001b[0m\u001b[0;34m)\u001b[0m\u001b[0;34m\u001b[0m\u001b[0m\n\u001b[0m\u001b[1;32m    967\u001b[0m                 \u001b[0mmarker_num\u001b[0m \u001b[0;34m+=\u001b[0m \u001b[0;36m1\u001b[0m\u001b[0;34m\u001b[0m\u001b[0m\n\u001b[1;32m    968\u001b[0m                 \u001b[0mmulti_color\u001b[0m \u001b[0;34m+=\u001b[0m \u001b[0;36m1\u001b[0m\u001b[0;34m\u001b[0m\u001b[0m\n",
      "\u001b[0;32mD:\\python\\lib\\site-packages\\matplotlib\\pyplot.py\u001b[0m in \u001b[0;36mscatter\u001b[0;34m(x, y, s, c, marker, cmap, norm, vmin, vmax, alpha, linewidths, verts, edgecolors, data, **kwargs)\u001b[0m\n\u001b[1;32m   2860\u001b[0m         \u001b[0mvmin\u001b[0m\u001b[0;34m=\u001b[0m\u001b[0mvmin\u001b[0m\u001b[0;34m,\u001b[0m \u001b[0mvmax\u001b[0m\u001b[0;34m=\u001b[0m\u001b[0mvmax\u001b[0m\u001b[0;34m,\u001b[0m \u001b[0malpha\u001b[0m\u001b[0;34m=\u001b[0m\u001b[0malpha\u001b[0m\u001b[0;34m,\u001b[0m \u001b[0mlinewidths\u001b[0m\u001b[0;34m=\u001b[0m\u001b[0mlinewidths\u001b[0m\u001b[0;34m,\u001b[0m\u001b[0;34m\u001b[0m\u001b[0m\n\u001b[1;32m   2861\u001b[0m         verts=verts, edgecolors=edgecolors, **({\"data\": data} if data\n\u001b[0;32m-> 2862\u001b[0;31m         is not None else {}), **kwargs)\n\u001b[0m\u001b[1;32m   2863\u001b[0m     \u001b[0msci\u001b[0m\u001b[0;34m(\u001b[0m\u001b[0m__ret\u001b[0m\u001b[0;34m)\u001b[0m\u001b[0;34m\u001b[0m\u001b[0m\n\u001b[1;32m   2864\u001b[0m     \u001b[0;32mreturn\u001b[0m \u001b[0m__ret\u001b[0m\u001b[0;34m\u001b[0m\u001b[0m\n",
      "\u001b[0;32mD:\\python\\lib\\site-packages\\matplotlib\\__init__.py\u001b[0m in \u001b[0;36minner\u001b[0;34m(ax, data, *args, **kwargs)\u001b[0m\n\u001b[1;32m   1808\u001b[0m                         \u001b[0;34m\"the Matplotlib list!)\"\u001b[0m \u001b[0;34m%\u001b[0m \u001b[0;34m(\u001b[0m\u001b[0mlabel_namer\u001b[0m\u001b[0;34m,\u001b[0m \u001b[0mfunc\u001b[0m\u001b[0;34m.\u001b[0m\u001b[0m__name__\u001b[0m\u001b[0;34m)\u001b[0m\u001b[0;34m,\u001b[0m\u001b[0;34m\u001b[0m\u001b[0m\n\u001b[1;32m   1809\u001b[0m                         RuntimeWarning, stacklevel=2)\n\u001b[0;32m-> 1810\u001b[0;31m             \u001b[0;32mreturn\u001b[0m \u001b[0mfunc\u001b[0m\u001b[0;34m(\u001b[0m\u001b[0max\u001b[0m\u001b[0;34m,\u001b[0m \u001b[0;34m*\u001b[0m\u001b[0margs\u001b[0m\u001b[0;34m,\u001b[0m \u001b[0;34m**\u001b[0m\u001b[0mkwargs\u001b[0m\u001b[0;34m)\u001b[0m\u001b[0;34m\u001b[0m\u001b[0m\n\u001b[0m\u001b[1;32m   1811\u001b[0m \u001b[0;34m\u001b[0m\u001b[0m\n\u001b[1;32m   1812\u001b[0m         inner.__doc__ = _add_data_doc(inner.__doc__,\n",
      "\u001b[0;32mD:\\python\\lib\\site-packages\\matplotlib\\axes\\_axes.py\u001b[0m in \u001b[0;36mscatter\u001b[0;34m(self, x, y, s, c, marker, cmap, norm, vmin, vmax, alpha, linewidths, verts, edgecolors, **kwargs)\u001b[0m\n\u001b[1;32m   4180\u001b[0m         \u001b[0my\u001b[0m \u001b[0;34m=\u001b[0m \u001b[0mnp\u001b[0m\u001b[0;34m.\u001b[0m\u001b[0mma\u001b[0m\u001b[0;34m.\u001b[0m\u001b[0mravel\u001b[0m\u001b[0;34m(\u001b[0m\u001b[0my\u001b[0m\u001b[0;34m)\u001b[0m\u001b[0;34m\u001b[0m\u001b[0m\n\u001b[1;32m   4181\u001b[0m         \u001b[0;32mif\u001b[0m \u001b[0mx\u001b[0m\u001b[0;34m.\u001b[0m\u001b[0msize\u001b[0m \u001b[0;34m!=\u001b[0m \u001b[0my\u001b[0m\u001b[0;34m.\u001b[0m\u001b[0msize\u001b[0m\u001b[0;34m:\u001b[0m\u001b[0;34m\u001b[0m\u001b[0m\n\u001b[0;32m-> 4182\u001b[0;31m             \u001b[0;32mraise\u001b[0m \u001b[0mValueError\u001b[0m\u001b[0;34m(\u001b[0m\u001b[0;34m\"x and y must be the same size\"\u001b[0m\u001b[0;34m)\u001b[0m\u001b[0;34m\u001b[0m\u001b[0m\n\u001b[0m\u001b[1;32m   4183\u001b[0m \u001b[0;34m\u001b[0m\u001b[0m\n\u001b[1;32m   4184\u001b[0m         \u001b[0;32mif\u001b[0m \u001b[0ms\u001b[0m \u001b[0;32mis\u001b[0m \u001b[0;32mNone\u001b[0m\u001b[0;34m:\u001b[0m\u001b[0;34m\u001b[0m\u001b[0m\n",
      "\u001b[0;31mValueError\u001b[0m: x and y must be the same size"
     ],
     "output_type": "error"
    },
    {
     "data": {
      "image/png": "[encoded data removed]",
      "text/plain": [
       "<Figure size 576x288 with 1 Axes>"
      ]
     },
     "metadata": {
      "needs_background": "light"
     },
     "output_type": "display_data"
    }
   ],
   "source": [
    "plotting.plotting_mix_ssmm_train(moea_list = [1, 3, 10], sklearn_list = [1, 2], soea_list = [], op_targets = [[0, 1], [0, 2], [0, 1, 2], [0, 3], [0, 2, 4], [0, 4]] , target = [0, 1])\n"
   ]
  },
  {
   "cell_type": "code",
   "execution_count": 3,
   "metadata": {},
   "outputs": [
    {
     "data": {
      "text/plain": [
       "[1, 2, 3, 't']"
      ]
     },
     "execution_count": 3,
     "metadata": {},
     "output_type": "execute_result"
    }
   ],
   "source": [
    "[1, 2,3]+['t']"
   ]
  },
  {
   "cell_type": "code",
   "execution_count": 11,
   "metadata": {},
   "outputs": [],
   "source": [
    "t = [[1,2,3]]"
   ]
  },
  {
   "cell_type": "code",
   "execution_count": 12,
   "metadata": {},
   "outputs": [
    {
     "data": {
      "text/plain": [
       "[[1, 2, 3]]"
      ]
     },
     "execution_count": 12,
     "metadata": {},
     "output_type": "execute_result"
    }
   ],
   "source": [
    "t"
   ]
  },
  {
   "cell_type": "code",
   "execution_count": 13,
   "metadata": {},
   "outputs": [],
   "source": [
    "t.append([4])"
   ]
  },
  {
   "cell_type": "code",
   "execution_count": 15,
   "metadata": {},
   "outputs": [
    {
     "data": {
      "text/plain": [
       "[[1, 2, 3], [4], 4]"
      ]
     },
     "execution_count": 15,
     "metadata": {},
     "output_type": "execute_result"
    }
   ],
   "source": [
    "t+[4]"
   ]
  },
  {
   "cell_type": "code",
   "execution_count": 1,
   "metadata": {},
   "outputs": [
    {
     "name": "stdout",
     "output_type": "stream",
     "text": [
      "WARNING:tensorflow:From D:\\python\\lib\\site-packages\\tensorflow_core\\python\\compat\\v2_compat.py:65: disable_resource_variables (from tensorflow.python.ops.variable_scope) is deprecated and will be removed in a future version.\n",
      "Instructions for updating:\n",
      "non-resource variables are not supported in the long term\n"
     ]
    }
   ],
   "source": [
    "import deal_with_problems"
   ]
  },
  {
   "cell_type": "code",
   "execution_count": 2,
   "metadata": {},
   "outputs": [],
   "source": [
    "deal_with_problems.regenerate_msdp_train_target('D:/个人资料O(∩_∩)O/研三/软件缺陷预测/results_new/results/linear/nsga2_10p_toZero/FPA_AAE/train/')"
   ]
  },
  {
   "cell_type": "code",
   "execution_count": 6,
   "metadata": {},
   "outputs": [],
   "source": [
    "import pandas as pd\n",
    "path = 'D:/个人资料O(∩_∩)O/研三/软件缺陷预测/results_new/results/linear/nsga2_10p_toZero/FPA_AAE/train/'\n",
    "params = pd.read_csv(path+'ant-1.3.csv', index_col = 0, header = 0)"
   ]
  },
  {
   "cell_type": "code",
   "execution_count": 7,
   "metadata": {},
   "outputs": [
    {
     "data": {
      "text/plain": [
       "(45, 21)"
      ]
     },
     "execution_count": 7,
     "metadata": {},
     "output_type": "execute_result"
    }
   ],
   "source": [
    "params.shape"
   ]
  },
  {
   "cell_type": "code",
   "execution_count": null,
   "metadata": {},
   "outputs": [],
   "source": [
    "import helpers\n",
    "X, y = helpers.get_features(path, fi)\n"
   ]
  },
  {
   "cell_type": "markdown",
   "metadata": {},
   "source": [
    "============================================绘图对比=============================================================="
   ]
  },
  {
   "cell_type": "code",
   "execution_count": 67,
   "metadata": {},
   "outputs": [
    {
     "data": {
      "image/png": "[encoded data removed]",
      "text/plain": [
       "<Figure size 576x288 with 1 Axes>"
      ]
     },
     "metadata": {
      "needs_background": "light"
     },
     "output_type": "display_data"
    }
   ],
   "source": [
    "#### import matplotlib.pyplot as plt\n",
    "x = [i for i in range(1, 12)]\n",
    "y = [i for i in range(1, 12)]\n",
    "plt.figure(figsize=(8, 4))\n",
    "#plt.xlabel('FPA',fontdict = {'size':20})\n",
    "#plt.ylabel('AAE', fontdict = {'size':20})\n",
    "marker = ['.', '+', '*', 'x', '1', '2', '3', 's', '^', '|', 'p', ]\n",
    "for i in range(5, 11):\n",
    "    plt.plot(x[i], y[i],marker[i], ms = 1, label = marker[i]+'hhhhhhhhhhhhhhhhhhh' )\n",
    "   # plt.scatter(x[i], y[i], marker = marker[i], s = [i*10], label = marker[i]+'hhhhhhhhhhhhhhhhhhh')\n",
    "plt.title('hhhhhhhhhhhhhh', fontdict = {'size':14})\n",
    "plt.axis('off')\n",
    "plt.legend(prop = {'size':16})\n",
    "plt.show()\n",
    "\n",
    "    "
   ]
  },
  {
   "cell_type": "code",
   "execution_count": 81,
   "metadata": {},
   "outputs": [
    {
     "data": {
      "image/png": "[encoded data removed]",
      "text/plain": [
       "<Figure size 576x288 with 1 Axes>"
      ]
     },
     "metadata": {
      "needs_background": "light"
     },
     "output_type": "display_data"
    }
   ],
   "source": [
    "multi_marker = ['.', '+', 'x', '1', '2', '|']\n",
    "single_marker = ['*', '^', 'o']\n",
    "plt.figure(figsize=(8, 4))\n",
    "s_algorithm = ['learning-to-rank', 'LinearRegression', 'RidgeCV']\n",
    "m_algorithm = ['multi-objective', 'multi-objective-revised', 'nsga2', 'nsga2_toZero']\n",
    "target = ['FPA_NNZ_MSE', 'FPA_MSE', 'FPA_NNZ']\n",
    "\n",
    "plt.plot(0, 0, multi_marker[0], ms = 8, label = m_algorithm[2] + '/' + target[0])\n",
    "plt.plot(0, 1000,multi_marker[1], ms = 8, label = m_algorithm[2] + '/' + target[1])\n",
    "plt.plot(0, 1000,multi_marker[2], ms = 8, label = m_algorithm[2] + '/' + target[2])\n",
    "plt.plot(1000, 0,multi_marker[3], ms = 8, label = m_algorithm[3] + '/' + target[0])\n",
    "plt.plot(1000, 1000, multi_marker[4], ms = 8, label = m_algorithm[3] + '/' + target[1])\n",
    "plt.plot(0, 1000,multi_marker[5], ms = 8, label = m_algorithm[3] + '/' + target[2])\n",
    "\n",
    "plt.plot(1000, 0, single_marker[0], ms = 8, label = s_algorithm[1])\n",
    "plt.plot(1000, 0, single_marker[1], ms = 8, label = s_algorithm[2])\n",
    "plt.plot(1000, 0, single_marker[2], ms = 8, label = s_algorithm[0])\n",
    "plt.axis('off')\n",
    "plt.legend(prop = {'size':14})\n",
    "plt.savefig('label.png')"
   ]
  },
  {
   "cell_type": "code",
   "execution_count": null,
   "metadata": {},
   "outputs": [],
   "source": []
  },
  {
   "cell_type": "code",
   "execution_count": 89,
   "metadata": {},
   "outputs": [
    {
     "data": {
      "text/plain": [
       "[0.0,\n",
       " 0.1,\n",
       " 0.2,\n",
       " 0.30000000000000004,\n",
       " 0.4,\n",
       " 0.5,\n",
       " 0.6000000000000001,\n",
       " 0.7000000000000001,\n",
       " 0.8,\n",
       " 0.9,\n",
       " 1.0,\n",
       " 1.1,\n",
       " 1.2000000000000002,\n",
       " 1.3,\n",
       " 1.4000000000000001,\n",
       " 1.5,\n",
       " 1.6,\n",
       " 1.7000000000000002,\n",
       " 1.8,\n",
       " 1.9000000000000001,\n",
       " 2.0,\n",
       " 2.1,\n",
       " 2.2,\n",
       " 2.3000000000000003,\n",
       " 2.4000000000000004,\n",
       " 2.5,\n",
       " 2.6,\n",
       " 2.7,\n",
       " 2.8000000000000003,\n",
       " 2.9000000000000004,\n",
       " 3.0,\n",
       " 3.1,\n",
       " 3.2,\n",
       " 3.3000000000000003,\n",
       " 3.4000000000000004,\n",
       " 3.5,\n",
       " 3.6,\n",
       " 3.7,\n",
       " 3.8000000000000003,\n",
       " 3.9000000000000004,\n",
       " 4.0,\n",
       " 4.1000000000000005,\n",
       " 4.2,\n",
       " 4.3,\n",
       " 4.4,\n",
       " 4.5,\n",
       " 4.6000000000000005,\n",
       " 4.7,\n",
       " 4.800000000000001,\n",
       " 4.9,\n",
       " 5.0,\n",
       " 5.1000000000000005,\n",
       " 5.2,\n",
       " 5.300000000000001,\n",
       " 5.4,\n",
       " 5.5,\n",
       " 5.6000000000000005,\n",
       " 5.7,\n",
       " 5.800000000000001,\n",
       " 5.9,\n",
       " 6.0,\n",
       " 6.1000000000000005,\n",
       " 6.2,\n",
       " 6.300000000000001,\n",
       " 6.4,\n",
       " 6.5,\n",
       " 6.6000000000000005,\n",
       " 6.7,\n",
       " 6.800000000000001,\n",
       " 6.9,\n",
       " 7.0,\n",
       " 7.1000000000000005,\n",
       " 7.2,\n",
       " 7.300000000000001,\n",
       " 7.4,\n",
       " 7.5,\n",
       " 7.6000000000000005,\n",
       " 7.7,\n",
       " 7.800000000000001,\n",
       " 7.9,\n",
       " 8.0,\n",
       " 8.1,\n",
       " 8.200000000000001,\n",
       " 8.3,\n",
       " 8.4,\n",
       " 8.5,\n",
       " 8.6,\n",
       " 8.700000000000001,\n",
       " 8.8,\n",
       " 8.9,\n",
       " 9.0,\n",
       " 9.1,\n",
       " 9.200000000000001,\n",
       " 9.3,\n",
       " 9.4,\n",
       " 9.5,\n",
       " 9.600000000000001,\n",
       " 9.700000000000001,\n",
       " 9.8,\n",
       " 9.9,\n",
       " 10.0,\n",
       " 10.100000000000001,\n",
       " 10.200000000000001,\n",
       " 10.3,\n",
       " 10.4,\n",
       " 10.5,\n",
       " 10.600000000000001,\n",
       " 10.700000000000001,\n",
       " 10.8,\n",
       " 10.9,\n",
       " 11.0,\n",
       " 11.100000000000001,\n",
       " 11.200000000000001,\n",
       " 11.3,\n",
       " 11.4,\n",
       " 11.5,\n",
       " 11.600000000000001,\n",
       " 11.700000000000001,\n",
       " 11.8,\n",
       " 11.9,\n",
       " 12.0,\n",
       " 12.100000000000001,\n",
       " 12.200000000000001,\n",
       " 12.3,\n",
       " 12.4,\n",
       " 12.5,\n",
       " 12.600000000000001,\n",
       " 12.700000000000001,\n",
       " 12.8,\n",
       " 12.9,\n",
       " 13.0,\n",
       " 13.100000000000001,\n",
       " 13.200000000000001,\n",
       " 13.3,\n",
       " 13.4,\n",
       " 13.5,\n",
       " 13.600000000000001,\n",
       " 13.700000000000001,\n",
       " 13.8,\n",
       " 13.9,\n",
       " 14.0,\n",
       " 14.100000000000001,\n",
       " 14.200000000000001,\n",
       " 14.3,\n",
       " 14.4,\n",
       " 14.5,\n",
       " 14.600000000000001,\n",
       " 14.700000000000001,\n",
       " 14.8,\n",
       " 14.9,\n",
       " 15.0,\n",
       " 15.100000000000001,\n",
       " 15.200000000000001,\n",
       " 15.3,\n",
       " 15.4,\n",
       " 15.5,\n",
       " 15.600000000000001,\n",
       " 15.700000000000001,\n",
       " 15.8,\n",
       " 15.9,\n",
       " 16.0,\n",
       " 16.1,\n",
       " 16.2,\n",
       " 16.3,\n",
       " 16.400000000000002,\n",
       " 16.5,\n",
       " 16.6,\n",
       " 16.7,\n",
       " 16.8,\n",
       " 16.900000000000002,\n",
       " 17.0,\n",
       " 17.1,\n",
       " 17.2,\n",
       " 17.3,\n",
       " 17.400000000000002,\n",
       " 17.5,\n",
       " 17.6,\n",
       " 17.7,\n",
       " 17.8,\n",
       " 17.900000000000002,\n",
       " 18.0,\n",
       " 18.1,\n",
       " 18.2,\n",
       " 18.3,\n",
       " 18.400000000000002,\n",
       " 18.5,\n",
       " 18.6,\n",
       " 18.7,\n",
       " 18.8,\n",
       " 18.900000000000002,\n",
       " 19.0,\n",
       " 19.1,\n",
       " 19.200000000000003,\n",
       " 19.3,\n",
       " 19.400000000000002,\n",
       " 19.5,\n",
       " 19.6,\n",
       " 19.700000000000003,\n",
       " 19.8,\n",
       " 19.900000000000002,\n",
       " 20.0,\n",
       " 20.1,\n",
       " 20.200000000000003,\n",
       " 20.3,\n",
       " 20.400000000000002,\n",
       " 20.5,\n",
       " 20.6,\n",
       " 20.700000000000003,\n",
       " 20.8,\n",
       " 20.900000000000002,\n",
       " 21.0,\n",
       " 21.1,\n",
       " 21.200000000000003,\n",
       " 21.3,\n",
       " 21.400000000000002,\n",
       " 21.5,\n",
       " 21.6,\n",
       " 21.700000000000003,\n",
       " 21.8,\n",
       " 21.900000000000002,\n",
       " 22.0,\n",
       " 22.1,\n",
       " 22.200000000000003,\n",
       " 22.3,\n",
       " 22.400000000000002,\n",
       " 22.5,\n",
       " 22.6,\n",
       " 22.700000000000003,\n",
       " 22.8,\n",
       " 22.900000000000002,\n",
       " 23.0,\n",
       " 23.1,\n",
       " 23.200000000000003,\n",
       " 23.3,\n",
       " 23.400000000000002,\n",
       " 23.5,\n",
       " 23.6,\n",
       " 23.700000000000003,\n",
       " 23.8,\n",
       " 23.900000000000002,\n",
       " 24.0,\n",
       " 24.1,\n",
       " 24.200000000000003,\n",
       " 24.3,\n",
       " 24.400000000000002,\n",
       " 24.5,\n",
       " 24.6,\n",
       " 24.700000000000003,\n",
       " 24.8,\n",
       " 24.900000000000002,\n",
       " 25.0,\n",
       " 25.1,\n",
       " 25.200000000000003,\n",
       " 25.3,\n",
       " 25.400000000000002,\n",
       " 25.5,\n",
       " 25.6,\n",
       " 25.700000000000003,\n",
       " 25.8,\n",
       " 25.900000000000002,\n",
       " 26.0,\n",
       " 26.1,\n",
       " 26.200000000000003,\n",
       " 26.3,\n",
       " 26.400000000000002,\n",
       " 26.5,\n",
       " 26.6,\n",
       " 26.700000000000003,\n",
       " 26.8,\n",
       " 26.900000000000002,\n",
       " 27.0,\n",
       " 27.1,\n",
       " 27.200000000000003,\n",
       " 27.3,\n",
       " 27.400000000000002,\n",
       " 27.5,\n",
       " 27.6,\n",
       " 27.700000000000003,\n",
       " 27.8,\n",
       " 27.900000000000002,\n",
       " 28.0,\n",
       " 28.1,\n",
       " 28.200000000000003,\n",
       " 28.3,\n",
       " 28.400000000000002,\n",
       " 28.5,\n",
       " 28.6,\n",
       " 28.700000000000003,\n",
       " 28.8,\n",
       " 28.900000000000002,\n",
       " 29.0,\n",
       " 29.1,\n",
       " 29.200000000000003,\n",
       " 29.3,\n",
       " 29.400000000000002,\n",
       " 29.5,\n",
       " 29.6,\n",
       " 29.700000000000003,\n",
       " 29.8,\n",
       " 29.900000000000002,\n",
       " 30.0,\n",
       " 30.1,\n",
       " 30.200000000000003,\n",
       " 30.3,\n",
       " 30.400000000000002,\n",
       " 30.5,\n",
       " 30.6,\n",
       " 30.700000000000003,\n",
       " 30.8,\n",
       " 30.900000000000002,\n",
       " 31.0,\n",
       " 31.1,\n",
       " 31.200000000000003,\n",
       " 31.3,\n",
       " 31.400000000000002,\n",
       " 31.5,\n",
       " 31.6,\n",
       " 31.700000000000003,\n",
       " 31.8,\n",
       " 31.900000000000002,\n",
       " 32.0,\n",
       " 32.1,\n",
       " 32.2,\n",
       " 32.300000000000004,\n",
       " 32.4,\n",
       " 32.5,\n",
       " 32.6,\n",
       " 32.7,\n",
       " 32.800000000000004,\n",
       " 32.9,\n",
       " 33.0,\n",
       " 33.1,\n",
       " 33.2,\n",
       " 33.300000000000004,\n",
       " 33.4,\n",
       " 33.5,\n",
       " 33.6,\n",
       " 33.7,\n",
       " 33.800000000000004,\n",
       " 33.9,\n",
       " 34.0,\n",
       " 34.1,\n",
       " 34.2,\n",
       " 34.300000000000004,\n",
       " 34.4,\n",
       " 34.5,\n",
       " 34.6,\n",
       " 34.7,\n",
       " 34.800000000000004,\n",
       " 34.9,\n",
       " 35.0,\n",
       " 35.1,\n",
       " 35.2,\n",
       " 35.300000000000004,\n",
       " 35.4,\n",
       " 35.5,\n",
       " 35.6,\n",
       " 35.7,\n",
       " 35.800000000000004,\n",
       " 35.9,\n",
       " 36.0,\n",
       " 36.1,\n",
       " 36.2,\n",
       " 36.300000000000004,\n",
       " 36.4,\n",
       " 36.5,\n",
       " 36.6,\n",
       " 36.7,\n",
       " 36.800000000000004,\n",
       " 36.9,\n",
       " 37.0,\n",
       " 37.1,\n",
       " 37.2,\n",
       " 37.300000000000004,\n",
       " 37.4,\n",
       " 37.5,\n",
       " 37.6,\n",
       " 37.7,\n",
       " 37.800000000000004,\n",
       " 37.9,\n",
       " 38.0,\n",
       " 38.1,\n",
       " 38.2,\n",
       " 38.300000000000004,\n",
       " 38.400000000000006,\n",
       " 38.5,\n",
       " 38.6,\n",
       " 38.7,\n",
       " 38.800000000000004,\n",
       " 38.900000000000006,\n",
       " 39.0,\n",
       " 39.1,\n",
       " 39.2,\n",
       " 39.300000000000004,\n",
       " 39.400000000000006,\n",
       " 39.5,\n",
       " 39.6,\n",
       " 39.7,\n",
       " 39.800000000000004,\n",
       " 39.900000000000006,\n",
       " 40.0,\n",
       " 40.1,\n",
       " 40.2,\n",
       " 40.300000000000004,\n",
       " 40.400000000000006,\n",
       " 40.5,\n",
       " 40.6,\n",
       " 40.7,\n",
       " 40.800000000000004,\n",
       " 40.900000000000006,\n",
       " 41.0,\n",
       " 41.1,\n",
       " 41.2,\n",
       " 41.300000000000004,\n",
       " 41.400000000000006,\n",
       " 41.5,\n",
       " 41.6,\n",
       " 41.7,\n",
       " 41.800000000000004,\n",
       " 41.900000000000006,\n",
       " 42.0,\n",
       " 42.1,\n",
       " 42.2,\n",
       " 42.300000000000004,\n",
       " 42.400000000000006,\n",
       " 42.5,\n",
       " 42.6,\n",
       " 42.7,\n",
       " 42.800000000000004,\n",
       " 42.900000000000006,\n",
       " 43.0,\n",
       " 43.1,\n",
       " 43.2,\n",
       " 43.300000000000004,\n",
       " 43.400000000000006,\n",
       " 43.5,\n",
       " 43.6,\n",
       " 43.7,\n",
       " 43.800000000000004,\n",
       " 43.900000000000006,\n",
       " 44.0,\n",
       " 44.1,\n",
       " 44.2,\n",
       " 44.300000000000004,\n",
       " 44.400000000000006,\n",
       " 44.5,\n",
       " 44.6,\n",
       " 44.7,\n",
       " 44.800000000000004,\n",
       " 44.900000000000006,\n",
       " 45.0,\n",
       " 45.1,\n",
       " 45.2,\n",
       " 45.300000000000004,\n",
       " 45.400000000000006,\n",
       " 45.5,\n",
       " 45.6,\n",
       " 45.7,\n",
       " 45.800000000000004,\n",
       " 45.900000000000006,\n",
       " 46.0,\n",
       " 46.1,\n",
       " 46.2,\n",
       " 46.300000000000004,\n",
       " 46.400000000000006,\n",
       " 46.5,\n",
       " 46.6,\n",
       " 46.7,\n",
       " 46.800000000000004,\n",
       " 46.900000000000006,\n",
       " 47.0,\n",
       " 47.1,\n",
       " 47.2,\n",
       " 47.300000000000004,\n",
       " 47.400000000000006,\n",
       " 47.5,\n",
       " 47.6,\n",
       " 47.7,\n",
       " 47.800000000000004,\n",
       " 47.900000000000006,\n",
       " 48.0,\n",
       " 48.1,\n",
       " 48.2,\n",
       " 48.300000000000004,\n",
       " 48.400000000000006,\n",
       " 48.5,\n",
       " 48.6,\n",
       " 48.7,\n",
       " 48.800000000000004,\n",
       " 48.900000000000006,\n",
       " 49.0,\n",
       " 49.1,\n",
       " 49.2,\n",
       " 49.300000000000004,\n",
       " 49.400000000000006,\n",
       " 49.5,\n",
       " 49.6,\n",
       " 49.7,\n",
       " 49.800000000000004,\n",
       " 49.900000000000006,\n",
       " 50.0,\n",
       " 50.1,\n",
       " 50.2,\n",
       " 50.300000000000004,\n",
       " 50.400000000000006,\n",
       " 50.5,\n",
       " 50.6,\n",
       " 50.7,\n",
       " 50.800000000000004,\n",
       " 50.900000000000006,\n",
       " 51.0,\n",
       " 51.1,\n",
       " 51.2,\n",
       " 51.300000000000004,\n",
       " 51.400000000000006,\n",
       " 51.5,\n",
       " 51.6,\n",
       " 51.7,\n",
       " 51.800000000000004,\n",
       " 51.900000000000006,\n",
       " 52.0,\n",
       " 52.1,\n",
       " 52.2,\n",
       " 52.300000000000004,\n",
       " 52.400000000000006,\n",
       " 52.5,\n",
       " 52.6,\n",
       " 52.7,\n",
       " 52.800000000000004,\n",
       " 52.900000000000006,\n",
       " 53.0,\n",
       " 53.1,\n",
       " 53.2,\n",
       " 53.300000000000004,\n",
       " 53.400000000000006,\n",
       " 53.5,\n",
       " 53.6,\n",
       " 53.7,\n",
       " 53.800000000000004,\n",
       " 53.900000000000006,\n",
       " 54.0,\n",
       " 54.1,\n",
       " 54.2,\n",
       " 54.300000000000004,\n",
       " 54.400000000000006,\n",
       " 54.5,\n",
       " 54.6,\n",
       " 54.7,\n",
       " 54.800000000000004,\n",
       " 54.900000000000006,\n",
       " 55.0,\n",
       " 55.1,\n",
       " 55.2,\n",
       " 55.300000000000004,\n",
       " 55.400000000000006,\n",
       " 55.5,\n",
       " 55.6,\n",
       " 55.7,\n",
       " 55.800000000000004,\n",
       " 55.900000000000006,\n",
       " 56.0,\n",
       " 56.1,\n",
       " 56.2,\n",
       " 56.300000000000004,\n",
       " 56.400000000000006,\n",
       " 56.5,\n",
       " 56.6,\n",
       " 56.7,\n",
       " 56.800000000000004,\n",
       " 56.900000000000006,\n",
       " 57.0,\n",
       " 57.1,\n",
       " 57.2,\n",
       " 57.300000000000004,\n",
       " 57.400000000000006,\n",
       " 57.5,\n",
       " 57.6,\n",
       " 57.7,\n",
       " 57.800000000000004,\n",
       " 57.900000000000006,\n",
       " 58.0,\n",
       " 58.1,\n",
       " 58.2,\n",
       " 58.300000000000004,\n",
       " 58.400000000000006,\n",
       " 58.5,\n",
       " 58.6,\n",
       " 58.7,\n",
       " 58.800000000000004,\n",
       " 58.900000000000006,\n",
       " 59.0,\n",
       " 59.1,\n",
       " 59.2,\n",
       " 59.300000000000004,\n",
       " 59.400000000000006,\n",
       " 59.5,\n",
       " 59.6,\n",
       " 59.7,\n",
       " 59.800000000000004,\n",
       " 59.900000000000006,\n",
       " 60.0,\n",
       " 60.1,\n",
       " 60.2,\n",
       " 60.300000000000004,\n",
       " 60.400000000000006,\n",
       " 60.5,\n",
       " 60.6,\n",
       " 60.7,\n",
       " 60.800000000000004,\n",
       " 60.900000000000006,\n",
       " 61.0,\n",
       " 61.1,\n",
       " 61.2,\n",
       " 61.300000000000004,\n",
       " 61.400000000000006,\n",
       " 61.5,\n",
       " 61.6,\n",
       " 61.7,\n",
       " 61.800000000000004,\n",
       " 61.900000000000006,\n",
       " 62.0,\n",
       " 62.1,\n",
       " 62.2,\n",
       " 62.300000000000004,\n",
       " 62.400000000000006,\n",
       " 62.5,\n",
       " 62.6,\n",
       " 62.7,\n",
       " 62.800000000000004,\n",
       " 62.900000000000006,\n",
       " 63.0,\n",
       " 63.1,\n",
       " 63.2,\n",
       " 63.300000000000004,\n",
       " 63.400000000000006,\n",
       " 63.5,\n",
       " 63.6,\n",
       " 63.7,\n",
       " 63.800000000000004,\n",
       " 63.900000000000006,\n",
       " 64.0,\n",
       " 64.10000000000001,\n",
       " 64.2,\n",
       " 64.3,\n",
       " 64.4,\n",
       " 64.5,\n",
       " 64.60000000000001,\n",
       " 64.7,\n",
       " 64.8,\n",
       " 64.9,\n",
       " 65.0,\n",
       " 65.10000000000001,\n",
       " 65.2,\n",
       " 65.3,\n",
       " 65.4,\n",
       " 65.5,\n",
       " 65.60000000000001,\n",
       " 65.7,\n",
       " 65.8,\n",
       " 65.9,\n",
       " 66.0,\n",
       " 66.10000000000001,\n",
       " 66.2,\n",
       " 66.3,\n",
       " 66.4,\n",
       " 66.5,\n",
       " 66.60000000000001,\n",
       " 66.7,\n",
       " 66.8,\n",
       " 66.9,\n",
       " 67.0,\n",
       " 67.10000000000001,\n",
       " 67.2,\n",
       " 67.3,\n",
       " 67.4,\n",
       " 67.5,\n",
       " 67.60000000000001,\n",
       " 67.7,\n",
       " 67.8,\n",
       " 67.9,\n",
       " 68.0,\n",
       " 68.10000000000001,\n",
       " 68.2,\n",
       " 68.3,\n",
       " 68.4,\n",
       " 68.5,\n",
       " 68.60000000000001,\n",
       " 68.7,\n",
       " 68.8,\n",
       " 68.9,\n",
       " 69.0,\n",
       " 69.10000000000001,\n",
       " 69.2,\n",
       " 69.3,\n",
       " 69.4,\n",
       " 69.5,\n",
       " 69.60000000000001,\n",
       " 69.7,\n",
       " 69.8,\n",
       " 69.9,\n",
       " 70.0,\n",
       " 70.10000000000001,\n",
       " 70.2,\n",
       " 70.3,\n",
       " 70.4,\n",
       " 70.5,\n",
       " 70.60000000000001,\n",
       " 70.7,\n",
       " 70.8,\n",
       " 70.9,\n",
       " 71.0,\n",
       " 71.10000000000001,\n",
       " 71.2,\n",
       " 71.3,\n",
       " 71.4,\n",
       " 71.5,\n",
       " 71.60000000000001,\n",
       " 71.7,\n",
       " 71.8,\n",
       " 71.9,\n",
       " 72.0,\n",
       " 72.10000000000001,\n",
       " 72.2,\n",
       " 72.3,\n",
       " 72.4,\n",
       " 72.5,\n",
       " 72.60000000000001,\n",
       " 72.7,\n",
       " 72.8,\n",
       " 72.9,\n",
       " 73.0,\n",
       " 73.10000000000001,\n",
       " 73.2,\n",
       " 73.3,\n",
       " 73.4,\n",
       " 73.5,\n",
       " 73.60000000000001,\n",
       " 73.7,\n",
       " 73.8,\n",
       " 73.9,\n",
       " 74.0,\n",
       " 74.10000000000001,\n",
       " 74.2,\n",
       " 74.3,\n",
       " 74.4,\n",
       " 74.5,\n",
       " 74.60000000000001,\n",
       " 74.7,\n",
       " 74.8,\n",
       " 74.9,\n",
       " 75.0,\n",
       " 75.10000000000001,\n",
       " 75.2,\n",
       " 75.3,\n",
       " 75.4,\n",
       " 75.5,\n",
       " 75.60000000000001,\n",
       " 75.7,\n",
       " 75.8,\n",
       " 75.9,\n",
       " 76.0,\n",
       " 76.10000000000001,\n",
       " 76.2,\n",
       " 76.3,\n",
       " 76.4,\n",
       " 76.5,\n",
       " 76.60000000000001,\n",
       " 76.7,\n",
       " 76.80000000000001,\n",
       " 76.9,\n",
       " 77.0,\n",
       " 77.10000000000001,\n",
       " 77.2,\n",
       " 77.30000000000001,\n",
       " 77.4,\n",
       " 77.5,\n",
       " 77.60000000000001,\n",
       " 77.7,\n",
       " 77.80000000000001,\n",
       " 77.9,\n",
       " 78.0,\n",
       " 78.10000000000001,\n",
       " 78.2,\n",
       " 78.30000000000001,\n",
       " 78.4,\n",
       " 78.5,\n",
       " 78.60000000000001,\n",
       " 78.7,\n",
       " 78.80000000000001,\n",
       " 78.9,\n",
       " 79.0,\n",
       " 79.10000000000001,\n",
       " 79.2,\n",
       " 79.30000000000001,\n",
       " 79.4,\n",
       " 79.5,\n",
       " 79.60000000000001,\n",
       " 79.7,\n",
       " 79.80000000000001,\n",
       " 79.9,\n",
       " 80.0,\n",
       " 80.10000000000001,\n",
       " 80.2,\n",
       " 80.30000000000001,\n",
       " 80.4,\n",
       " 80.5,\n",
       " 80.60000000000001,\n",
       " 80.7,\n",
       " 80.80000000000001,\n",
       " 80.9,\n",
       " 81.0,\n",
       " 81.10000000000001,\n",
       " 81.2,\n",
       " 81.30000000000001,\n",
       " 81.4,\n",
       " 81.5,\n",
       " 81.60000000000001,\n",
       " 81.7,\n",
       " 81.80000000000001,\n",
       " 81.9,\n",
       " 82.0,\n",
       " 82.10000000000001,\n",
       " 82.2,\n",
       " 82.30000000000001,\n",
       " 82.4,\n",
       " 82.5,\n",
       " 82.60000000000001,\n",
       " 82.7,\n",
       " 82.80000000000001,\n",
       " 82.9,\n",
       " 83.0,\n",
       " 83.10000000000001,\n",
       " 83.2,\n",
       " 83.30000000000001,\n",
       " 83.4,\n",
       " 83.5,\n",
       " 83.60000000000001,\n",
       " 83.7,\n",
       " 83.80000000000001,\n",
       " 83.9,\n",
       " 84.0,\n",
       " 84.10000000000001,\n",
       " 84.2,\n",
       " 84.30000000000001,\n",
       " 84.4,\n",
       " 84.5,\n",
       " 84.60000000000001,\n",
       " 84.7,\n",
       " 84.80000000000001,\n",
       " 84.9,\n",
       " 85.0,\n",
       " 85.10000000000001,\n",
       " 85.2,\n",
       " 85.30000000000001,\n",
       " 85.4,\n",
       " 85.5,\n",
       " 85.60000000000001,\n",
       " 85.7,\n",
       " 85.80000000000001,\n",
       " 85.9,\n",
       " 86.0,\n",
       " 86.10000000000001,\n",
       " 86.2,\n",
       " 86.30000000000001,\n",
       " 86.4,\n",
       " 86.5,\n",
       " 86.60000000000001,\n",
       " 86.7,\n",
       " 86.80000000000001,\n",
       " 86.9,\n",
       " 87.0,\n",
       " 87.10000000000001,\n",
       " 87.2,\n",
       " 87.30000000000001,\n",
       " 87.4,\n",
       " 87.5,\n",
       " 87.60000000000001,\n",
       " 87.7,\n",
       " 87.80000000000001,\n",
       " 87.9,\n",
       " 88.0,\n",
       " 88.10000000000001,\n",
       " 88.2,\n",
       " 88.30000000000001,\n",
       " 88.4,\n",
       " 88.5,\n",
       " 88.60000000000001,\n",
       " 88.7,\n",
       " 88.80000000000001,\n",
       " 88.9,\n",
       " 89.0,\n",
       " 89.10000000000001,\n",
       " 89.2,\n",
       " 89.30000000000001,\n",
       " 89.4,\n",
       " 89.5,\n",
       " 89.60000000000001,\n",
       " 89.7,\n",
       " 89.80000000000001,\n",
       " 89.9,\n",
       " 90.0,\n",
       " 90.10000000000001,\n",
       " 90.2,\n",
       " 90.30000000000001,\n",
       " 90.4,\n",
       " 90.5,\n",
       " 90.60000000000001,\n",
       " 90.7,\n",
       " 90.80000000000001,\n",
       " 90.9,\n",
       " 91.0,\n",
       " 91.10000000000001,\n",
       " 91.2,\n",
       " 91.30000000000001,\n",
       " 91.4,\n",
       " 91.5,\n",
       " 91.60000000000001,\n",
       " 91.7,\n",
       " 91.80000000000001,\n",
       " 91.9,\n",
       " 92.0,\n",
       " 92.10000000000001,\n",
       " 92.2,\n",
       " 92.30000000000001,\n",
       " 92.4,\n",
       " 92.5,\n",
       " 92.60000000000001,\n",
       " 92.7,\n",
       " 92.80000000000001,\n",
       " 92.9,\n",
       " 93.0,\n",
       " 93.10000000000001,\n",
       " 93.2,\n",
       " 93.30000000000001,\n",
       " 93.4,\n",
       " 93.5,\n",
       " 93.60000000000001,\n",
       " 93.7,\n",
       " 93.80000000000001,\n",
       " 93.9,\n",
       " 94.0,\n",
       " 94.10000000000001,\n",
       " 94.2,\n",
       " 94.30000000000001,\n",
       " 94.4,\n",
       " 94.5,\n",
       " 94.60000000000001,\n",
       " 94.7,\n",
       " 94.80000000000001,\n",
       " 94.9,\n",
       " 95.0,\n",
       " 95.10000000000001,\n",
       " 95.2,\n",
       " 95.30000000000001,\n",
       " 95.4,\n",
       " 95.5,\n",
       " 95.60000000000001,\n",
       " 95.7,\n",
       " 95.80000000000001,\n",
       " 95.9,\n",
       " 96.0,\n",
       " 96.10000000000001,\n",
       " 96.2,\n",
       " 96.30000000000001,\n",
       " 96.4,\n",
       " 96.5,\n",
       " 96.60000000000001,\n",
       " 96.7,\n",
       " 96.80000000000001,\n",
       " 96.9,\n",
       " 97.0,\n",
       " 97.10000000000001,\n",
       " 97.2,\n",
       " 97.30000000000001,\n",
       " 97.4,\n",
       " 97.5,\n",
       " 97.60000000000001,\n",
       " 97.7,\n",
       " 97.80000000000001,\n",
       " 97.9,\n",
       " 98.0,\n",
       " 98.10000000000001,\n",
       " 98.2,\n",
       " 98.30000000000001,\n",
       " 98.4,\n",
       " 98.5,\n",
       " 98.60000000000001,\n",
       " 98.7,\n",
       " 98.80000000000001,\n",
       " 98.9,\n",
       " 99.0,\n",
       " 99.10000000000001,\n",
       " 99.2,\n",
       " 99.30000000000001,\n",
       " 99.4,\n",
       " 99.5,\n",
       " 99.60000000000001,\n",
       " 99.7,\n",
       " 99.80000000000001,\n",
       " 99.9,\n",
       " ...]"
      ]
     },
     "execution_count": 89,
     "metadata": {},
     "output_type": "execute_result"
    }
   ],
   "source": [
    "import numpy as np\n",
    "list(np.linspace(start = 0, stop = 1000,num = 10001))"
   ]
  },
  {
   "cell_type": "markdown",
   "metadata": {},
   "source": [
    "=============================================测试CoDE=================================================================="
   ]
  },
  {
   "cell_type": "code",
   "execution_count": 1,
   "metadata": {},
   "outputs": [],
   "source": [
    "import random"
   ]
  },
  {
   "cell_type": "code",
   "execution_count": 2,
   "metadata": {},
   "outputs": [],
   "source": [
    "j = random.randrange(0, 10)"
   ]
  },
  {
   "cell_type": "code",
   "execution_count": 3,
   "metadata": {},
   "outputs": [
    {
     "data": {
      "text/plain": [
       "4"
      ]
     },
     "execution_count": 3,
     "metadata": {},
     "output_type": "execute_result"
    }
   ],
   "source": [
    "j"
   ]
  }
 ],
 "metadata": {
  "kernelspec": {
   "display_name": "python base",
   "language": "python",
   "name": "base"
  },
  "language_info": {
   "codemirror_mode": {
    "name": "ipython",
    "version": 3
   },
   "file_extension": ".py",
   "mimetype": "text/x-python",
   "name": "python",
   "nbconvert_exporter": "python",
   "pygments_lexer": "ipython3",
   "version": "3.5.1"
  }
 },
 "nbformat": 4,
 "nbformat_minor": 2
}
